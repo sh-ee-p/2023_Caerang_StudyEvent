{
 "cells": [
  {
   "cell_type": "markdown",
   "id": "8b8cbbea",
   "metadata": {},
   "source": [
    "## BOJ 15552 빠른 A+B"
   ]
  },
  {
   "cell_type": "code",
   "execution_count": 4,
   "id": "9fc51fd8",
   "metadata": {},
   "outputs": [
    {
     "name": "stdout",
     "output_type": "stream",
     "text": [
      "5\n"
     ]
    },
    {
     "ename": "ValueError",
     "evalue": "not enough values to unpack (expected 2, got 0)",
     "output_type": "error",
     "traceback": [
      "\u001b[1;31m---------------------------------------------------------------------------\u001b[0m",
      "\u001b[1;31mValueError\u001b[0m                                Traceback (most recent call last)",
      "Cell \u001b[1;32mIn[4], line 4\u001b[0m\n\u001b[0;32m      2\u001b[0m T \u001b[38;5;241m=\u001b[39m \u001b[38;5;28mint\u001b[39m(\u001b[38;5;28minput\u001b[39m())\n\u001b[0;32m      3\u001b[0m \u001b[38;5;28;01mfor\u001b[39;00m i \u001b[38;5;129;01min\u001b[39;00m \u001b[38;5;28mrange\u001b[39m(T):\n\u001b[1;32m----> 4\u001b[0m     a,b \u001b[38;5;241m=\u001b[39m \u001b[38;5;28mmap\u001b[39m(\u001b[38;5;28mint\u001b[39m, sys\u001b[38;5;241m.\u001b[39mstdin\u001b[38;5;241m.\u001b[39mreadline()\u001b[38;5;241m.\u001b[39mrstrip()\u001b[38;5;241m.\u001b[39msplit( ))\n\u001b[0;32m      5\u001b[0m     \u001b[38;5;28mprint\u001b[39m(a\u001b[38;5;241m+\u001b[39mb)\n",
      "\u001b[1;31mValueError\u001b[0m: not enough values to unpack (expected 2, got 0)"
     ]
    }
   ],
   "source": [
    "import sys\n",
    "T = int(input())\n",
    "for i in range(T):\n",
    "    a,b = map(int, sys.stdin.readline().rstrip().split( ))\n",
    "    print(a+b)"
   ]
  },
  {
   "cell_type": "markdown",
   "id": "9df66088",
   "metadata": {},
   "source": [
    "## 빠른 입력받기\n",
    "\n",
    "### sys.stdin.readline()\n",
    "\n",
    "- input 대신 sys.stdin.readline을 사용하면 빠르게 입력받을 수 있음\n",
    "- 시간초과가 날 경우 사용하면 좋은 방법임\n",
    "- 이때 입력받는 것에 개행문자까지 입력받기 때문에 문자열을 저장하고 싶을 경우에는 .rstrip()을 추가로 사용하면 됨\n",
    "    - 입력받는 동시에 int형으로 변환해주면 자동으로 개행이 제거되어 .rstrip()을 사용하지 않아도 됨\n",
    "\n",
    "- import sys를 통해 사용 가능\n",
    "- 간결한 코드작성을 위해 input = sys.stdin.readline을 선언하여 사용 가능\n",
    "- 일반 IDE에서는 실행되지 않아서 jupyter, spyder 등에서 실행되지 않음\n",
    "\n",
    "----------\n",
    "\n",
    "### sys모듈\n",
    "\n",
    "- 파이썬 인터프리터를 제어할 수 있는 방법을 제공함\n",
    "- 외에도 os, re 등 여러 모듈이 있음\n",
    "\n",
    "------------\n",
    "\n",
    "### rstrip()/ lstrip()/ strip()\n",
    "\n",
    "- 공백 제거 역할\n",
    "\n",
    "      data = ' Hello World '\n",
    "      print('[' + data.rstrip() + ']')     # [ Hello World]\n",
    "      print('[' + data.lstrip() + ']')     # [Hello World ]\n",
    "      print('[' + data.strip() + ']')      # [Hello World]\n",
    "      \n",
    "- 동일 문자 제거\n",
    "\n",
    "      data = '!!!Hello World!!'\n",
    "      print(data.rstrip('!'))              # !!!Hello World\n",
    "      print(data.lstrip('!'))              # Hello World!!\n",
    "      print(data.strip('!'))               # Hello World\n",
    "\n",
    "- 여러 문자 제거\n",
    "\n",
    "      data = '1..!Hello ..2World!!.'\n",
    "      print(data.rstrip('12..!'))          # 1..!Hello ..2World\n",
    "      print(data.lstrip('12..!'))          # Hello ..2World!!.\n",
    "      print(data.strip('12..!'))           # Hello ..2World"
   ]
  }
 ],
 "metadata": {
  "kernelspec": {
   "display_name": "Python 3 (ipykernel)",
   "language": "python",
   "name": "python3"
  },
  "language_info": {
   "codemirror_mode": {
    "name": "ipython",
    "version": 3
   },
   "file_extension": ".py",
   "mimetype": "text/x-python",
   "name": "python",
   "nbconvert_exporter": "python",
   "pygments_lexer": "ipython3",
   "version": "3.10.9"
  }
 },
 "nbformat": 4,
 "nbformat_minor": 5
}

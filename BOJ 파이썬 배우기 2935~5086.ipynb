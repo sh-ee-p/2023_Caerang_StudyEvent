{
 "cells": [
  {
   "cell_type": "code",
   "execution_count": 3,
   "id": "a4b6b939",
   "metadata": {},
   "outputs": [
    {
     "name": "stdout",
     "output_type": "stream",
     "text": [
      "1\n",
      "*\n",
      "1000\n",
      "1000\n"
     ]
    }
   ],
   "source": [
    "#BOJ2935\n",
    "A = input()\n",
    "I = input()\n",
    "B = input()\n",
    "print(eval(A+I+B))"
   ]
  },
  {
   "cell_type": "code",
   "execution_count": 6,
   "id": "9015fac8",
   "metadata": {},
   "outputs": [
    {
     "name": "stdout",
     "output_type": "stream",
     "text": [
      "30\n",
      "F\n"
     ]
    }
   ],
   "source": [
    "#BOJ9498\n",
    "score = int(input())\n",
    "grade = 'F'\n",
    "\n",
    "if score>=90:\n",
    "    grade = 'A'\n",
    "elif score>=80:\n",
    "    grade = 'B'\n",
    "elif score>=70:\n",
    "    grade = 'C'\n",
    "elif score>=60:\n",
    "    grade = 'D'\n",
    "\n",
    "print(grade)"
   ]
  },
  {
   "cell_type": "code",
   "execution_count": 11,
   "id": "bbdec83a",
   "metadata": {},
   "outputs": [
    {
     "name": "stdout",
     "output_type": "stream",
     "text": [
      "20 10 10\n",
      "10\n"
     ]
    }
   ],
   "source": [
    "#BOJ10817\n",
    "a = list(map(int, input().split( )))\n",
    "max_a = max(a)\n",
    "a.remove(max_a)\n",
    "print(max(a))    "
   ]
  },
  {
   "cell_type": "markdown",
   "id": "c72b58ab",
   "metadata": {},
   "source": [
    "## 소인수분해\n",
    "\n",
    "1보다 큰 자연수인 소인수의 곱으로 표현하는 것\n",
    "\n",
    "소인수를 2부터 시작하여 2로 나누지 못할 경우 소인수에 +1을 하면서 주어진 자연수가 계속 나누어지는지 체크하면 된다.\n",
    "\n",
    "### 예시\n",
    "def factorization(x):\n",
    "    d = 2\n",
    "\n",
    "    while d<=x:\n",
    "        if x%d==0:\n",
    "            print(d)\n",
    "            x = x/d\n",
    "        else:\n",
    "            d = d+1\n",
    "\n",
    "factorization(10)\n",
    "\n",
    "### 결과\n",
    "2\n",
    "5"
   ]
  },
  {
   "cell_type": "code",
   "execution_count": 16,
   "id": "38d886e2",
   "metadata": {},
   "outputs": [
    {
     "name": "stdout",
     "output_type": "stream",
     "text": [
      "9991\n",
      "97\n",
      "103\n"
     ]
    }
   ],
   "source": [
    "#BOJ11653\n",
    "def d(n):\n",
    "    a = 2\n",
    "    while a<=n:\n",
    "        if n%a==0:\n",
    "            print(a)\n",
    "            n = n/a\n",
    "        else:\n",
    "            a = a+1\n",
    "\n",
    "N = int(input())\n",
    "d(N)"
   ]
  },
  {
   "cell_type": "code",
   "execution_count": 20,
   "id": "67525af2",
   "metadata": {},
   "outputs": [
    {
     "name": "stdout",
     "output_type": "stream",
     "text": [
      "200\n",
      "19\n"
     ]
    }
   ],
   "source": [
    "#BOJ1789\n",
    "S = int(input())\n",
    "m = 1\n",
    "\n",
    "while S!=0:\n",
    "    if S<m:\n",
    "        break\n",
    "    S = S-m\n",
    "    m = m+1\n",
    "\n",
    "print(m-1)"
   ]
  },
  {
   "cell_type": "code",
   "execution_count": 22,
   "id": "7c2f0018",
   "metadata": {},
   "outputs": [
    {
     "name": "stdout",
     "output_type": "stream",
     "text": [
      "1999\n",
      "0\n"
     ]
    }
   ],
   "source": [
    "#BOJ2753\n",
    "year = int(input())\n",
    "\n",
    "if year%4==0 and (year%100!=0 or year%400==0):\n",
    "    print(1)\n",
    "else:\n",
    "    print(0)"
   ]
  },
  {
   "cell_type": "code",
   "execution_count": 24,
   "id": "e94615b7",
   "metadata": {},
   "outputs": [
    {
     "name": "stdout",
     "output_type": "stream",
     "text": [
      "10\n",
      "65\n",
      "100\n",
      "30\n",
      "95\n",
      "68\n"
     ]
    }
   ],
   "source": [
    "#BOJ10039\n",
    "sum_score = 0\n",
    "\n",
    "for i in range(5):\n",
    "    score = int(input())\n",
    "    if score<40:\n",
    "        score = 40\n",
    "    sum_score = sum_score+score\n",
    "\n",
    "print(sum_score//5)\n",
    "# //은 나눈 몫을 계산"
   ]
  },
  {
   "cell_type": "markdown",
   "id": "1915eaee",
   "metadata": {},
   "source": [
    "## 최대공약수와 최소공배수\n",
    "\n",
    "### 최대공약수\n",
    "GCD(Greatest Common Divisor)\n",
    "- 약수 중 공통이며 가장 큰 수\n",
    "\n",
    "### 일반 for문으로 최대공약수 구하기\n",
    "    a = 10\n",
    "    b = 12\n",
    "    for i in range(min(a,b),0,-1):\n",
    "        if a%i == 0 and b%i == 0:\n",
    "            print(i)\n",
    "            break\n",
    "설명)\n",
    "a, b 중 가장 작은 숫자부터 1까지 -1을 하면서 for 문을 실행시킨다. 만약 a%i, b%i 값이 모두 0이라면 이때 i는 a와 b의 최대공약수가 된다.\n",
    "\n",
    "### 유클리드 호제법으로 최대공약수 구하기\n",
    "유클리드 호제법이란?\n",
    "- 2개의 자연수 또는 정식의 최대공약수를 구하는 알고리즘의 하나\n",
    "- 2개의 자연수 a, b에 대해서 a를 b로 나눈 나머지를 r이라고 하면(이때 a>b이다), a와 b의 최대공약수는 b와 r의 최대공약수와 같다. 따라서 b를 r로 나눈 나머지 r'를 구하고, 다시 r을 r'로 나눈 나머지를 구하는 과정을 반복하여 나머지가 0이 되었을 때 나누는 수가 a와 b의 최대공약수이다.\n",
    "\n",
    "간단히 하자면 \n",
    "x와 y의 최대공약수 == y와 r의 최대공약수\n",
    "계속해서 x에는 y값을 대입, y에는 r값을 대입해서 \n",
    "x%y==0일 때의 y값이 최대공약수\n",
    "\n",
    "    def GCD(x,y):\n",
    "        while(y):\n",
    "            x,y = y,x%y\n",
    "        return x\n",
    "    print(GCD(10, 12))\n",
    "    \n",
    "설명)\n",
    "while(y) == True일 경우, y가 0 초과일 경우 x의 자리에는 y의 값을 y의 자리에는 x%y의 값을 넣는다. 그리고 while문으로 반복하다가 y가 0이 될 때, x가 y로 나누어 떨어질 때 y의 값이 x, y의 최대공약수이다.\n",
    "\n",
    "### 최소공배수\n",
    "LCM(Least Common Multiple)\n",
    "- 각각의 배수 중 공통이며 가장 작은 수\n",
    "\n",
    "### 일반 for문으로 최소공배수 구하기\n",
    "    a = 10\n",
    "    b = 12\n",
    "    \n",
    "    for i in range(max(a,b),(a*b)+1):\n",
    "        if i%a == 0 and i%b == 0:\n",
    "            print(i)\n",
    "            break\n",
    "\n",
    "설명)\n",
    "a, b 중 더 큰 숫자부터 axb의 수까지 for문을 실행시킨다.i%a, i%b==0 일 때 i는 a와 b의 최소공배수이다.\n",
    "\n",
    "### 유클리드 호제법으로 최소공배수 구하기\n",
    "    def LCM(x, y):\n",
    "        result = (x*y)//GCD(x,y)\n",
    "        return result\n",
    "    print(LCM(10,12))\n",
    "\n",
    "설명)\n",
    "XxY를 최대공약수로 나눈 몫이 최소공배수이다."
   ]
  },
  {
   "cell_type": "code",
   "execution_count": 27,
   "id": "67998dd9",
   "metadata": {},
   "outputs": [
    {
     "name": "stdout",
     "output_type": "stream",
     "text": [
      "3\n",
      "1 45000\n",
      "6 10\n",
      "13 17\n",
      "45000\n",
      "30\n",
      "221\n"
     ]
    }
   ],
   "source": [
    "#BOJ1934\n",
    "def GCD(x,y):\n",
    "    while(y):\n",
    "        x,y = y, x%y\n",
    "    return x\n",
    "\n",
    "def LCM(x,y):\n",
    "    result = (x*y)//GCD(x,y)\n",
    "    return result\n",
    "\n",
    "case_n = int(input())\n",
    "list_lcm = []\n",
    "for i in range(case_n):\n",
    "    X, Y = map(int, input().split( ))\n",
    "    list_lcm.append(LCM(X,Y))\n",
    "\n",
    "for i in range(case_n):\n",
    "    print(list_lcm[i])"
   ]
  },
  {
   "cell_type": "code",
   "execution_count": 33,
   "id": "6a213cf0",
   "metadata": {},
   "outputs": [
    {
     "name": "stdout",
     "output_type": "stream",
     "text": [
      "6 2 5\n",
      "600\n"
     ]
    }
   ],
   "source": [
    "#BOJ2480\n",
    "def rule(x,y,z):\n",
    "    if x==y==z:\n",
    "        print(10000 + 1000*x)\n",
    "    elif x==y or z==x:\n",
    "        print(1000 + 100*x)\n",
    "    elif y==z:\n",
    "        print(1000 + 100*y)\n",
    "    else:\n",
    "        print(100*max(a,b,c))\n",
    "\n",
    "a, b, c = map(int, input().split( ))\n",
    "rule(a,b,c)"
   ]
  },
  {
   "cell_type": "code",
   "execution_count": 4,
   "id": "7c36610f",
   "metadata": {},
   "outputs": [
    {
     "name": "stdout",
     "output_type": "stream",
     "text": [
      "1 19\n",
      "4 4\n",
      "23 14\n",
      "0 0\n",
      "No\n",
      "No\n",
      "Yes\n"
     ]
    }
   ],
   "source": [
    "#BOJ4101\n",
    "r = []\n",
    "while True:\n",
    "    A, B = map(int, input().split( ))\n",
    "    if A==0 and B==0:\n",
    "        break\n",
    "    if min(A,B)<A:\n",
    "        r.append(\"Yes\")\n",
    "    else:\n",
    "        r.append(\"No\")\n",
    "\n",
    "for i in r:\n",
    "    print(i)"
   ]
  },
  {
   "cell_type": "code",
   "execution_count": 8,
   "id": "4604d7e0",
   "metadata": {},
   "outputs": [
    {
     "name": "stdout",
     "output_type": "stream",
     "text": [
      "20 10 320\n",
      "0\n"
     ]
    }
   ],
   "source": [
    "#BOJ10156\n",
    "price, amount, balance = map(int, input().split( ))\n",
    "result = price*amount-balance\n",
    "if result<=0:\n",
    "    result = 0\n",
    "print(result)"
   ]
  },
  {
   "cell_type": "code",
   "execution_count": 13,
   "id": "f2e90989",
   "metadata": {},
   "outputs": [
    {
     "name": "stdout",
     "output_type": "stream",
     "text": [
      "5 5\n",
      "5 7\n",
      "7 5\n",
      "7 7\n"
     ]
    }
   ],
   "source": [
    "#BOJ3009\n",
    "x_list = []\n",
    "y_list = []\n",
    "\n",
    "for i in range(3):\n",
    "    x, y = map(int, input().split( ))\n",
    "    x_list.append(x)\n",
    "    y_list.append(y)\n",
    "\n",
    "for i in range(len(x_list)):\n",
    "    if x_list.count(x_list[i])==1:\n",
    "        x = x_list[i]\n",
    "    if y_list.count(y_list[i])==1:\n",
    "        y = y_list[i]\n",
    "\n",
    "print(x, y)"
   ]
  },
  {
   "cell_type": "markdown",
   "id": "ab28b418",
   "metadata": {},
   "source": [
    "### count()\n",
    "\n",
    "- 문자열 안에서 찾고 싶은 문자의 개수를 찾을 수 있음\n",
    "- 튜플, 리스트, 집합과 같은 반복 가능한 iterable 자료형에서도 사용 가능\n",
    "- '변수.count(찾는 요소)' 형태로 사용하고 함수를 사용한 변수 안에서 찾는 요소의 개수를 숫자로 반환함\n",
    "\n",
    "     - ex) 'ooyyy'.count('y')  # 3\n",
    "- dictionary, set 자료형에서는 count 함수를 사용할 수 없다.(error: AttributeError)\n",
    "- bool 타입을 변수에 저장한 경우에는 tuple로 인식되어 사용 가능하다.(tuple 타입이었기에 사용 가능하다는 뜻)\n"
   ]
  },
  {
   "cell_type": "code",
   "execution_count": 14,
   "id": "dffe8c27",
   "metadata": {},
   "outputs": [
    {
     "name": "stdout",
     "output_type": "stream",
     "text": [
      "3\n",
      "3 3 6\n",
      "2 2 2\n",
      "6 2 5\n",
      "12000\n"
     ]
    }
   ],
   "source": [
    "#BOJ2480\n",
    "N = int(input())\n",
    "p = []\n",
    "\n",
    "for i in range(N):\n",
    "    A, B, C = map(int, input().split( ))\n",
    "    if A==B==C:\n",
    "        price = 10000+1000*A\n",
    "    elif A==B or A==C:\n",
    "        price = 1000 + 100*A\n",
    "    elif B==C:\n",
    "        price = 1000 + 100*B\n",
    "    else:\n",
    "        price = 100*max(A,B,C)\n",
    "    p.append(price)\n",
    "\n",
    "max_p = 0\n",
    "for i in p:\n",
    "    max_p = max(i, max_p)\n",
    "\n",
    "print(max_p)"
   ]
  },
  {
   "cell_type": "code",
   "execution_count": 18,
   "id": "4561041a",
   "metadata": {},
   "outputs": [
    {
     "name": "stdout",
     "output_type": "stream",
     "text": [
      "F\n",
      "0.0\n"
     ]
    }
   ],
   "source": [
    "#BOJ2754\n",
    "grade = {\n",
    "    \"A+\":4.3,\"A0\":4.0,\"A-\":3.7,\n",
    "    \"B+\":3.3,\"B0\":3.0,\"B-\":2.7,\n",
    "    \"C+\":2.3,\"C0\":2.0,\"C-\":1.7,\n",
    "    \"D+\":1.3,\"D0\":1.0,\"D-\":0.7,\n",
    "    \"F\":0.0\n",
    "}\n",
    "\n",
    "user_g = input()\n",
    "print(grade[user_g])"
   ]
  },
  {
   "cell_type": "code",
   "execution_count": 22,
   "id": "ba584348",
   "metadata": {},
   "outputs": [
    {
     "name": "stdout",
     "output_type": "stream",
     "text": [
      "23 40\n",
      "22 55\n"
     ]
    }
   ],
   "source": [
    "#BOJ2884\n",
    "H, M = map(int, input().split( ))\n",
    "if M<45:\n",
    "    if H==0:\n",
    "        H = 23\n",
    "    else:\n",
    "        H = H-1\n",
    "    M = 15+M\n",
    "else:\n",
    "    M = M-45\n",
    "print(H, M)"
   ]
  },
  {
   "cell_type": "markdown",
   "id": "77cb3db4",
   "metadata": {},
   "source": [
    "# BOJ 7567 그릇\n",
    "\n",
    "## 문제\n",
    "그릇을 바닥에 놓았을 때 그 높이는 10cm 이다. 그런데 두 개의 그릇을 같은 방향으로 포개면 그 높이는 5cm만 증가된다. 만일 그릇이 서로 반대방향으로 쌓이면 높이는 그릇만큼, 즉 10cm 늘어난다. 그릇을 괄호 기호로 나타내어 설명해보자. 편의상 그릇이 쌓여지는 방향은 왼쪽에서 오른쪽이라고 가정한다. 그림에서 ‘(’은 그릇이 바닥에 바로 놓인 상태를 나타내며, ‘)’은 그릇이 거꾸로 놓인 상태를 나타낸다.\n",
    "\n",
    "만일 그릇이 포개진 모양이 ((((와 같다면 전체의 높이는 25cm가 된다. 왜냐하면 처음 바닥에 있는 그릇의 높이가 10cm이고 이후 같은 방향으로 3개의 그릇이 포개져 있으므로 늘어난 높이는 5+5+5=15 이기 때문이다. ()()와 같은 경우라면 그 높이는 10*4=40cm가 된다.\n",
    "\n",
    "여러분은 입력에 주어진 모양대로 그릇을 쌓을 때 최종의 전체 그릇 높이를 계산해서 출력해야 한다. 즉 처음 입력으로 주어진 각 그릇의 방향은 바꿀 수 없다. \n",
    "\n",
    "-----------\n",
    "\n",
    "## 입력\n",
    "첫 줄에는 괄호문자로만 이루어진 문자열이 주어진다. 입력 문자열에서 열린 괄호 ‘(’은 바로 놓인 그릇, 닫힌 괄호 ‘)’은 거꾸로 놓인 그릇을 나타난다. 문자열의 길이는 3이상 50 이하이다.\n",
    "\n",
    "ex) ((((\n",
    "ex)) ()()()))(\n",
    "\n",
    "--------------\n",
    "\n",
    "## 출력\n",
    "여러분은 그릇 방향이 괄호 문자로 표시된 문자열을 읽어서 그 최종의 높이를 정수로 출력해야 한다.\n",
    "\n",
    "ex) 25\n",
    "ex)) 80\n",
    "\n",
    "----------------\n",
    "\n",
    "## 접근\n",
    "\n",
    "- 그릇을 바닥에 놓았을 때 10cm -> 첫 그릇은 10cm\n",
    "- 두 개의 그릇을 같은 방향으로 포개면 그 높이는 5cm만 증가 -> 이전 그릇과 현재 그릇의 방향이 같다면 5cm 증가\n",
    "- 그릇이 서로 반대방향으로 쌓이면 높이는 10cm 증가 -> 이전 그릇과 현재 그릇의 방향이 반대라면 10cm 증가\n",
    "\n",
    "--------------------\n",
    "\n",
    "## 정답\n",
    "\n",
    "    bowl = list(input())\n",
    "    sum = 0\n",
    "    for i in range(len(bowl)):\n",
    "        if i==0:\n",
    "            sum+=10\n",
    "        elif bowl[i-1]==bowl[i]:\n",
    "            sum+=5\n",
    "        else:\n",
    "            sum+=10\n",
    "    print(sum)\n",
    "    \n",
    "- 리스트 bowl에 그릇을 입력받고\n",
    "- 그릇의 높이 sum을 정의하고\n",
    "- for 문을 돌면서 그릇의 방향을 비교하고\n",
    "    - 첫 그릇이라면 sum+=10\n",
    "    - 전 그릇과 지금 그릇의 방향이 같다면 (bowl[i-1]==bowl[i]) sum+=5\n",
    "    - 방향이 반대라면 (bowl[i-1]!=bowl[i]) sum+=10\n",
    "    - 그릇의 높이 sum 출력\n"
   ]
  },
  {
   "cell_type": "code",
   "execution_count": 32,
   "id": "9e593e9e",
   "metadata": {
    "scrolled": true
   },
   "outputs": [
    {
     "name": "stdout",
     "output_type": "stream",
     "text": [
      "()()()))(\n",
      "80\n"
     ]
    }
   ],
   "source": [
    "#BOJ7567\n",
    "plate = list(input())\n",
    "sum_p = 0\n",
    "for i in range(len(plate)):\n",
    "    if i==0:\n",
    "        sum_p+=10\n",
    "    elif plate[i-1]==plate[i]:\n",
    "        sum_p+=5\n",
    "    else:\n",
    "        sum_p+=10\n",
    "print(sum_p)"
   ]
  },
  {
   "cell_type": "code",
   "execution_count": 33,
   "id": "60ccf2fe",
   "metadata": {},
   "outputs": [
    {
     "name": "stdout",
     "output_type": "stream",
     "text": [
      "3\n",
      "0 100 70\n",
      "100 130 30\n",
      "-100 -70 40\n",
      "advertise\n",
      "does not matter\n",
      "do not advertise\n"
     ]
    }
   ],
   "source": [
    "#BOJ5063\n",
    "N = int(input())\n",
    "result = []\n",
    "\n",
    "for i in range(N):\n",
    "    r, e, c = map(int, input().split( ))\n",
    "    if r<e-c:\n",
    "        result.append(\"advertise\")\n",
    "    elif r>e-c:\n",
    "        result.append(\"do not advertise\")\n",
    "    else:\n",
    "        result.append(\"does not matter\")\n",
    "for i in result:\n",
    "    print(i)"
   ]
  },
  {
   "cell_type": "code",
   "execution_count": 36,
   "id": "ea13968f",
   "metadata": {},
   "outputs": [
    {
     "name": "stdout",
     "output_type": "stream",
     "text": [
      "4\n",
      "AABB\n",
      "Tie\n"
     ]
    }
   ],
   "source": [
    "#BOJ10102\n",
    "V = int(input())\n",
    "Vote = input()\n",
    "\n",
    "if Vote.count(\"A\")>Vote.count(\"B\"):\n",
    "    print(\"A\")\n",
    "elif Vote.count(\"A\")==Vote.count(\"B\"):\n",
    "    print(\"Tie\")\n",
    "else:\n",
    "    print(\"B\")\n"
   ]
  },
  {
   "cell_type": "code",
   "execution_count": 40,
   "id": "8526fae8",
   "metadata": {},
   "outputs": [
    {
     "name": "stdout",
     "output_type": "stream",
     "text": [
      "3\n",
      "1\n",
      "0\n",
      "0\n",
      "Junhee is not cute!\n"
     ]
    }
   ],
   "source": [
    "#BOJ10886\n",
    "N = int(input())\n",
    "cutecnt = 0\n",
    "ncutecnt = 0\n",
    "\n",
    "for i in range(N):\n",
    "    V = input()\n",
    "    if V==\"1\":\n",
    "        cutecnt+=1\n",
    "    else:\n",
    "        ncutecnt+=1\n",
    "\n",
    "if cutecnt>ncutecnt:\n",
    "    print(\"Junhee is cute!\")\n",
    "else:\n",
    "    print(\"Junhee is not cute!\")"
   ]
  },
  {
   "cell_type": "markdown",
   "id": "bef1b1f3",
   "metadata": {},
   "source": [
    "### BOJ10886\n",
    "\n",
    "- 틀린 이유 : V를 정수형 자료로 입력 받지 않아서 틀림\n",
    "- 정수형 자료로 받지 않을 때에는 if의 조건문에서 V를 문자열 1(\"1\")과 비교해야 옳게 되는데 문자열 1이 아닌 정수 1과 비교하여 틀린 답이라고 인식함\n",
    "오답 코드 :\n",
    "\n",
    "    N = int(input())\n",
    "    cutecnt = 0\n",
    "    ncutecnt = 0\n",
    "    \n",
    "    for i in range(N):\n",
    "        V = input()\n",
    "        if V==1:\n",
    "            cutecnt+=1\n",
    "        else:\n",
    "            ncutecnt+=1\n",
    "\n",
    "    if cutecnt>ncutecnt:\n",
    "        print(\"Junhee is cute!\")\n",
    "    else:\n",
    "        print(\"Junhee is not cute!\")\n",
    "        \n",
    "수정한 코드1 : \n",
    "\n",
    "    N = int(input())\n",
    "    cutecnt = 0\n",
    "    ncutecnt = 0\n",
    "\n",
    "    for i in range(N):\n",
    "        V = input()\n",
    "        if V==\"1\":\n",
    "            cutecnt+=1\n",
    "        else:\n",
    "            ncutecnt+=1\n",
    "\n",
    "    if cutecnt>ncutecnt:\n",
    "        print(\"Junhee is cute!\")\n",
    "    else:\n",
    "        print(\"Junhee is not cute!\")\n",
    "        \n",
    "수정한 코드2 : \n",
    "\n",
    "    N = int(input())\n",
    "    cutecnt = 0\n",
    "    ncutecnt = 0\n",
    "\n",
    "    for i in range(N):\n",
    "        V = int(input())\n",
    "        if V==1:\n",
    "            cutecnt+=1\n",
    "        else:\n",
    "            ncutecnt+=1\n",
    "\n",
    "    if cutecnt>ncutecnt:\n",
    "        print(\"Junhee is cute!\")\n",
    "    else:\n",
    "        print(\"Junhee is not cute!\")"
   ]
  },
  {
   "cell_type": "code",
   "execution_count": 48,
   "id": "4cac68ed",
   "metadata": {},
   "outputs": [
    {
     "name": "stdout",
     "output_type": "stream",
     "text": [
      "cimic\n",
      "1\n"
     ]
    }
   ],
   "source": [
    "#BOJ10988\n",
    "word = list(str(input()))\n",
    "if list(reversed(word)) == word:\n",
    "    print(1)\n",
    "else:\n",
    "    print(0)"
   ]
  },
  {
   "cell_type": "markdown",
   "id": "be26e4e9",
   "metadata": {},
   "source": [
    "### BOJ10988\n",
    "\n",
    "- 틀린 이유 : \n",
    "     - 역순으로 뒤집으려면 거꾸로 루프를 돌리는 함수인 reversed(list)를 써야한다.\n",
    "     - 그리고 reversed()는 반환 타입으로 인자로 넘어온 자료구조와 동일한 타입을 사용하지 않고 반복자 타입을 반환하기 때문에 다시 list()로 묶어주어야 동일한 list끼리 비교할 수 있다.\n",
    "     - 리스트를 역순으로 뒤집는 방법에 대해 제대로 알지 못했다.\n",
    "     - list 내용을 비교하기 위해 set로 바꿔서 비교하려고 했는데 수정한 코드에 비하면 불필요한 과정이었음을 알 수 있다.\n",
    "\n",
    "오답 코드 :\n",
    "\n",
    "    word = list(input())\n",
    "    if set(word) == set(word.reverse()):\n",
    "        print(1)\n",
    "    else:\n",
    "        print(0)\n",
    "        \n",
    "\n",
    "수정한 코드 : \n",
    "\n",
    "    word = list(str(input()))\n",
    "    if list(reversed(word)) == word:\n",
    "        print(1)\n",
    "    else:\n",
    "        print(0)\n"
   ]
  },
  {
   "cell_type": "code",
   "execution_count": 49,
   "id": "54178258",
   "metadata": {},
   "outputs": [
    {
     "name": "stdout",
     "output_type": "stream",
     "text": [
      "8 16\n",
      "32 4\n",
      "17 5\n",
      "0 0\n",
      "factor\n",
      "multiple\n",
      "neither\n"
     ]
    }
   ],
   "source": [
    "#BOJ5086\n",
    "fmn = []\n",
    "\n",
    "while True:\n",
    "    A, B = map(int, input().split( ))\n",
    "    if A==0 and B==0:\n",
    "        break\n",
    "    if B%A==0:\n",
    "        fmn.append(\"factor\")\n",
    "    elif A%B==0:\n",
    "        fmn.append(\"multiple\")\n",
    "    else:\n",
    "        fmn.append(\"neither\")\n",
    "\n",
    "for i in fmn:\n",
    "    print(i)"
   ]
  }
 ],
 "metadata": {
  "kernelspec": {
   "display_name": "Python 3 (ipykernel)",
   "language": "python",
   "name": "python3"
  },
  "language_info": {
   "codemirror_mode": {
    "name": "ipython",
    "version": 3
   },
   "file_extension": ".py",
   "mimetype": "text/x-python",
   "name": "python",
   "nbconvert_exporter": "python",
   "pygments_lexer": "ipython3",
   "version": "3.10.9"
  }
 },
 "nbformat": 4,
 "nbformat_minor": 5
}

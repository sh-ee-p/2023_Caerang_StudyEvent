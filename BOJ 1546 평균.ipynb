{
 "cells": [
  {
   "cell_type": "code",
   "execution_count": 9,
   "id": "d2e7b06b",
   "metadata": {},
   "outputs": [
    {
     "name": "stdout",
     "output_type": "stream",
     "text": [
      "9\n",
      "10 20 30 40 50 60 70 80 90\n",
      "55.55555555555556\n"
     ]
    }
   ],
   "source": [
    "N = int(input())\n",
    "L = list(map(int, input().split()))\n",
    "maxn = max(L)\n",
    "sumn = 0\n",
    "for i in L:\n",
    "    sumn += i / maxn * 100\n",
    "print(sumn/N)"
   ]
  }
 ],
 "metadata": {
  "kernelspec": {
   "display_name": "Python 3 (ipykernel)",
   "language": "python",
   "name": "python3"
  },
  "language_info": {
   "codemirror_mode": {
    "name": "ipython",
    "version": 3
   },
   "file_extension": ".py",
   "mimetype": "text/x-python",
   "name": "python",
   "nbconvert_exporter": "python",
   "pygments_lexer": "ipython3",
   "version": "3.10.9"
  }
 },
 "nbformat": 4,
 "nbformat_minor": 5
}

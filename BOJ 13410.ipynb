{
 "cells": [
  {
   "cell_type": "markdown",
   "id": "1c494064",
   "metadata": {},
   "source": [
    "### 13410 "
   ]
  },
  {
   "cell_type": "code",
   "execution_count": 1,
   "id": "51580875",
   "metadata": {},
   "outputs": [
    {
     "name": "stdout",
     "output_type": "stream",
     "text": [
      "8 9\n",
      "84\n"
     ]
    }
   ],
   "source": [
    "N, K = map(int, input().split( ))\n",
    "r = []\n",
    "max_r = 0\n",
    "\n",
    "for i in range(1, K+1):\n",
    "    a = N*i\n",
    "    r.append(int(str(a)[::-1]))\n",
    "\n",
    "print(max(r))"
   ]
  },
  {
   "cell_type": "code",
   "execution_count": null,
   "id": "0f13cef7",
   "metadata": {},
   "outputs": [],
   "source": []
  }
 ],
 "metadata": {
  "kernelspec": {
   "display_name": "Python 3 (ipykernel)",
   "language": "python",
   "name": "python3"
  },
  "language_info": {
   "codemirror_mode": {
    "name": "ipython",
    "version": 3
   },
   "file_extension": ".py",
   "mimetype": "text/x-python",
   "name": "python",
   "nbconvert_exporter": "python",
   "pygments_lexer": "ipython3",
   "version": "3.10.9"
  }
 },
 "nbformat": 4,
 "nbformat_minor": 5
}

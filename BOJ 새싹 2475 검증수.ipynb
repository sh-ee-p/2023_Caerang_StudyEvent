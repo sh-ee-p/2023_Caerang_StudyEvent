{
 "cells": [
  {
   "cell_type": "markdown",
   "id": "af9369d9",
   "metadata": {},
   "source": [
    "## BOJ 2475 검증수"
   ]
  },
  {
   "cell_type": "code",
   "execution_count": 2,
   "id": "a9ce1309",
   "metadata": {},
   "outputs": [
    {
     "name": "stdout",
     "output_type": "stream",
     "text": [
      "1 1 1 1 1\n",
      "5\n"
     ]
    }
   ],
   "source": [
    "def serialnum(list_):\n",
    "    sumn = 0\n",
    "    for i in list_:\n",
    "        sumn += i*i\n",
    "    return sumn%10\n",
    "\n",
    "list_ = list(map(int, input().split( )))\n",
    "print(serialnum(list_))"
   ]
  }
 ],
 "metadata": {
  "kernelspec": {
   "display_name": "Python 3 (ipykernel)",
   "language": "python",
   "name": "python3"
  },
  "language_info": {
   "codemirror_mode": {
    "name": "ipython",
    "version": 3
   },
   "file_extension": ".py",
   "mimetype": "text/x-python",
   "name": "python",
   "nbconvert_exporter": "python",
   "pygments_lexer": "ipython3",
   "version": "3.10.9"
  }
 },
 "nbformat": 4,
 "nbformat_minor": 5
}

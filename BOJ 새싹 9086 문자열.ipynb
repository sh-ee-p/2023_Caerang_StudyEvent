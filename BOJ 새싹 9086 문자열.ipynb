{
 "cells": [
  {
   "cell_type": "markdown",
   "id": "869e9bcc",
   "metadata": {},
   "source": [
    "## BOJ 9086 문자열"
   ]
  },
  {
   "cell_type": "code",
   "execution_count": 2,
   "id": "4a5065ee",
   "metadata": {},
   "outputs": [
    {
     "name": "stdout",
     "output_type": "stream",
     "text": [
      "3\n",
      "ACDKJFOWIEGHE\n",
      "AE\n",
      "O\n",
      "OO\n",
      "AB\n",
      "AB\n"
     ]
    }
   ],
   "source": [
    "T = int(input())\n",
    "for i in range(T):\n",
    "    S = input()\n",
    "    print(S[0], end = '')\n",
    "    print(S[len(S)-1])\n"
   ]
  }
 ],
 "metadata": {
  "kernelspec": {
   "display_name": "Python 3 (ipykernel)",
   "language": "python",
   "name": "python3"
  },
  "language_info": {
   "codemirror_mode": {
    "name": "ipython",
    "version": 3
   },
   "file_extension": ".py",
   "mimetype": "text/x-python",
   "name": "python",
   "nbconvert_exporter": "python",
   "pygments_lexer": "ipython3",
   "version": "3.10.9"
  }
 },
 "nbformat": 4,
 "nbformat_minor": 5
}

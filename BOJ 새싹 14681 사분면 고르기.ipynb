{
 "cells": [
  {
   "cell_type": "markdown",
   "id": "95e765eb",
   "metadata": {},
   "source": [
    "## BOJ 14681 사분면 고르기"
   ]
  },
  {
   "cell_type": "code",
   "execution_count": 2,
   "id": "0d60fc3a",
   "metadata": {},
   "outputs": [
    {
     "name": "stdout",
     "output_type": "stream",
     "text": [
      "9\n",
      "-13\n",
      "4\n"
     ]
    }
   ],
   "source": [
    "X = int(input())\n",
    "Y = int(input())\n",
    "if X>0:\n",
    "    if Y>0:\n",
    "        print(1)\n",
    "    else:\n",
    "        print(4)\n",
    "else:\n",
    "    if Y>0:\n",
    "        print(2)\n",
    "    else:\n",
    "        print(3)"
   ]
  }
 ],
 "metadata": {
  "kernelspec": {
   "display_name": "Python 3 (ipykernel)",
   "language": "python",
   "name": "python3"
  },
  "language_info": {
   "codemirror_mode": {
    "name": "ipython",
    "version": 3
   },
   "file_extension": ".py",
   "mimetype": "text/x-python",
   "name": "python",
   "nbconvert_exporter": "python",
   "pygments_lexer": "ipython3",
   "version": "3.10.9"
  }
 },
 "nbformat": 4,
 "nbformat_minor": 5
}

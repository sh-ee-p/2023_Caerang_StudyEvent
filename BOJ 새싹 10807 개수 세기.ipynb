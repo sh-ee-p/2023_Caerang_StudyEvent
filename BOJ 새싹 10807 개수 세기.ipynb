{
 "cells": [
  {
   "cell_type": "markdown",
   "id": "ef6df9a0",
   "metadata": {},
   "source": [
    "## BOJ 10807 개수 세기"
   ]
  },
  {
   "cell_type": "code",
   "execution_count": 2,
   "id": "4b8ff94b",
   "metadata": {},
   "outputs": [
    {
     "name": "stdout",
     "output_type": "stream",
     "text": [
      "11\n",
      "1 4 1 2 4 2 4 2 3 4 4\n",
      "5\n",
      "0\n"
     ]
    }
   ],
   "source": [
    "N = int(input())\n",
    "L = list(map(int, input().split( )))\n",
    "sn = int(input())\n",
    "cnt = 0\n",
    "\n",
    "for i in L:\n",
    "    if i==sn:\n",
    "        cnt += 1\n",
    "print(cnt)"
   ]
  }
 ],
 "metadata": {
  "kernelspec": {
   "display_name": "Python 3 (ipykernel)",
   "language": "python",
   "name": "python3"
  },
  "language_info": {
   "codemirror_mode": {
    "name": "ipython",
    "version": 3
   },
   "file_extension": ".py",
   "mimetype": "text/x-python",
   "name": "python",
   "nbconvert_exporter": "python",
   "pygments_lexer": "ipython3",
   "version": "3.10.9"
  }
 },
 "nbformat": 4,
 "nbformat_minor": 5
}

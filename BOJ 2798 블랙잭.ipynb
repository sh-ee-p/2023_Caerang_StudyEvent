{
 "cells": [
  {
   "cell_type": "code",
   "execution_count": 12,
   "id": "68d515d9",
   "metadata": {},
   "outputs": [
    {
     "name": "stdout",
     "output_type": "stream",
     "text": [
      "10 500\n",
      "93 181 245 214 315 36 185 138 216 295\n",
      "497\n"
     ]
    }
   ],
   "source": [
    "N, M = map(int, input().split())\n",
    "L = list(map(int, input().split()))\n",
    "sn = 0\n",
    "for i in range(len(L)):\n",
    "    for j in range(i+1,len(L)):\n",
    "        for k in range(j+1, len(L)):\n",
    "            if L[i] + L[j] + L[k]>M:\n",
    "                continue\n",
    "            sn = max(sn, L[i] + L[j] + L[k])\n",
    "print(sn)"
   ]
  }
 ],
 "metadata": {
  "kernelspec": {
   "display_name": "Python 3 (ipykernel)",
   "language": "python",
   "name": "python3"
  },
  "language_info": {
   "codemirror_mode": {
    "name": "ipython",
    "version": 3
   },
   "file_extension": ".py",
   "mimetype": "text/x-python",
   "name": "python",
   "nbconvert_exporter": "python",
   "pygments_lexer": "ipython3",
   "version": "3.10.9"
  }
 },
 "nbformat": 4,
 "nbformat_minor": 5
}

{
 "cells": [
  {
   "cell_type": "markdown",
   "id": "69b998f8",
   "metadata": {},
   "source": [
    "## BOJ 10871 X보다 작은 수"
   ]
  },
  {
   "cell_type": "code",
   "execution_count": 1,
   "id": "feba9f23",
   "metadata": {},
   "outputs": [
    {
     "name": "stdout",
     "output_type": "stream",
     "text": [
      "10 5\n",
      "1 10 4 9 2 3 8 5 7 6\n",
      "1 4 2 3 "
     ]
    }
   ],
   "source": [
    "n, x = map(int, input().split( ))\n",
    "num = list(map(int, input().split( )))\n",
    "\n",
    "for i in range(n):\n",
    "    if num[i]<x:\n",
    "        print(num[i], end = \" \")"
   ]
  }
 ],
 "metadata": {
  "kernelspec": {
   "display_name": "Python 3 (ipykernel)",
   "language": "python",
   "name": "python3"
  },
  "language_info": {
   "codemirror_mode": {
    "name": "ipython",
    "version": 3
   },
   "file_extension": ".py",
   "mimetype": "text/x-python",
   "name": "python",
   "nbconvert_exporter": "python",
   "pygments_lexer": "ipython3",
   "version": "3.10.9"
  }
 },
 "nbformat": 4,
 "nbformat_minor": 5
}

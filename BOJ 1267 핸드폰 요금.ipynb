{
 "cells": [
  {
   "cell_type": "code",
   "execution_count": 13,
   "id": "a14108cd",
   "metadata": {},
   "outputs": [
    {
     "name": "stdout",
     "output_type": "stream",
     "text": [
      "2\n",
      "60 65\n",
      "Y M 60\n"
     ]
    }
   ],
   "source": [
    "def Yfunc(L):\n",
    "    s = 0\n",
    "    for i in L:\n",
    "        s += (i//30+1)*10\n",
    "    return s\n",
    "\n",
    "def Mfunc(L):\n",
    "    s = 0\n",
    "    for i in L:\n",
    "        s += (i//60+1)*15\n",
    "    return s\n",
    "\n",
    "N = int(input())\n",
    "L = list(map(int, input().split( )))\n",
    "\n",
    "Y = Yfunc(L)\n",
    "M = Mfunc(L)\n",
    "\n",
    "if Y<M:\n",
    "    print('Y', Y)\n",
    "elif M<Y:\n",
    "    print('M', M)\n",
    "else:\n",
    "    print('Y','M', Y)"
   ]
  }
 ],
 "metadata": {
  "kernelspec": {
   "display_name": "Python 3 (ipykernel)",
   "language": "python",
   "name": "python3"
  },
  "language_info": {
   "codemirror_mode": {
    "name": "ipython",
    "version": 3
   },
   "file_extension": ".py",
   "mimetype": "text/x-python",
   "name": "python",
   "nbconvert_exporter": "python",
   "pygments_lexer": "ipython3",
   "version": "3.10.9"
  }
 },
 "nbformat": 4,
 "nbformat_minor": 5
}

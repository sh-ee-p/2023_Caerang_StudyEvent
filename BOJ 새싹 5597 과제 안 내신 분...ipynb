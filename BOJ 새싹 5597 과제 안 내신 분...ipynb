{
 "cells": [
  {
   "cell_type": "markdown",
   "id": "bd828687",
   "metadata": {},
   "source": [
    "## BOJ 5597 과제 안 내신 분...?"
   ]
  },
  {
   "cell_type": "code",
   "execution_count": 1,
   "id": "8001665c",
   "metadata": {},
   "outputs": [
    {
     "name": "stdout",
     "output_type": "stream",
     "text": [
      "3\n",
      "1\n",
      "4\n",
      "5\n",
      "7\n",
      "9\n",
      "6\n",
      "10\n",
      "11\n",
      "12\n",
      "13\n",
      "14\n",
      "15\n",
      "16\n",
      "17\n",
      "18\n",
      "19\n",
      "20\n",
      "21\n",
      "22\n",
      "23\n",
      "24\n",
      "25\n",
      "26\n",
      "27\n",
      "28\n",
      "29\n",
      "30\n",
      "2\n",
      "8\n"
     ]
    }
   ],
   "source": [
    "# 1부터 30까지의 리스트 생성\n",
    "num = [i for i in range(1, 31)]\n",
    "\n",
    "for j in range(28):\n",
    "    data = int(input())\n",
    "    num.remove(data)\n",
    "print(min(num))\n",
    "print(max(num))"
   ]
  }
 ],
 "metadata": {
  "kernelspec": {
   "display_name": "Python 3 (ipykernel)",
   "language": "python",
   "name": "python3"
  },
  "language_info": {
   "codemirror_mode": {
    "name": "ipython",
    "version": 3
   },
   "file_extension": ".py",
   "mimetype": "text/x-python",
   "name": "python",
   "nbconvert_exporter": "python",
   "pygments_lexer": "ipython3",
   "version": "3.10.9"
  }
 },
 "nbformat": 4,
 "nbformat_minor": 5
}

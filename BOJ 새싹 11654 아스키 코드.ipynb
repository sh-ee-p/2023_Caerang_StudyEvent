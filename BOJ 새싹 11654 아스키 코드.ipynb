{
 "cells": [
  {
   "cell_type": "markdown",
   "id": "8a07afcd",
   "metadata": {},
   "source": [
    "## BOJ 11654 아스키 코드"
   ]
  },
  {
   "cell_type": "code",
   "execution_count": 2,
   "id": "14afcd6a",
   "metadata": {},
   "outputs": [
    {
     "name": "stdout",
     "output_type": "stream",
     "text": [
      "A\n",
      "65\n"
     ]
    }
   ],
   "source": [
    "print(ord(input()))"
   ]
  },
  {
   "cell_type": "markdown",
   "id": "5e8c7a36",
   "metadata": {},
   "source": [
    "## 아스키 코드\n",
    "\n",
    "- 알파벳을 비롯한 문자들을 통신하기 위해 일대일 대응시켜 숫자로 정해둔 코드\n",
    "- ord()와 chr() 함수를 통해 문자 -> 아스키코드, 아스키코드 -> 문자로 변환 가능\n",
    "- 대문자 알파벳 아스키코드 < 소문자 알파벳 아스키코드\n",
    "- 알파벳 순서에 따라 아스키코드의 숫자가 1씩 증가함\n",
    "\n",
    "----------\n",
    "\n",
    "## 특정 알파벳에서 N번째 후의 알파벳\n",
    "\n",
    "- ex) Z에서 1번째 후의 알파벳 구하기\n",
    "     - Z 다음에 A가 출력되기 바란다면\n",
    "\n",
    "      print(chr(ord(\"A\") + ((ord(\"Z\") + 1 - ord(\"A\")) % 26)))\n",
    "      # A\n",
    "\n",
    "- 함수로 구현하면\n",
    "\n",
    "      ALPHABET_NUMBER = 26\n",
    "      def get_alphabet_after(alphabet, n):\n",
    "          return chr(ord(\"A\") + (ord(alphabet) + n - ord(\"A\")) % ALPHABET_NUMBER)\n",
    "      \n",
    "      print(get_alphabet_after(\"A\", 3))    # D\n",
    "      print(get_alphabet_after(\"Z\", 5))    # E\n",
    "      print(get_alphabet_after(\"C\", 1))    # D"
   ]
  }
 ],
 "metadata": {
  "kernelspec": {
   "display_name": "Python 3 (ipykernel)",
   "language": "python",
   "name": "python3"
  },
  "language_info": {
   "codemirror_mode": {
    "name": "ipython",
    "version": 3
   },
   "file_extension": ".py",
   "mimetype": "text/x-python",
   "name": "python",
   "nbconvert_exporter": "python",
   "pygments_lexer": "ipython3",
   "version": "3.10.9"
  }
 },
 "nbformat": 4,
 "nbformat_minor": 5
}

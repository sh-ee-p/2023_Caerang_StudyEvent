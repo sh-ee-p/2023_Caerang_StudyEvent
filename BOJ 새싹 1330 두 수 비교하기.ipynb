{
 "cells": [
  {
   "cell_type": "markdown",
   "id": "eca76480",
   "metadata": {},
   "source": [
    "## BOJ 1330 두 수 비교하기"
   ]
  },
  {
   "cell_type": "code",
   "execution_count": 3,
   "id": "2025da4c",
   "metadata": {},
   "outputs": [
    {
     "name": "stdout",
     "output_type": "stream",
     "text": [
      "5 5\n",
      "==\n"
     ]
    }
   ],
   "source": [
    "A, B = map(int, input().split( ))\n",
    "\n",
    "if A>B:\n",
    "    print(\">\")\n",
    "elif A<B:\n",
    "    print(\"<\")\n",
    "else:\n",
    "    print(\"==\")"
   ]
  },
  {
   "cell_type": "code",
   "execution_count": 6,
   "id": "504746ac",
   "metadata": {},
   "outputs": [
    {
     "name": "stdout",
     "output_type": "stream",
     "text": [
      "5 5\n",
      "==\n"
     ]
    }
   ],
   "source": [
    "#리스트 활용\n",
    "a,b=map(int,input().split())\n",
    "print(['><'[a<b],'=='][a==b])"
   ]
  },
  {
   "cell_type": "markdown",
   "id": "69fb2edd",
   "metadata": {},
   "source": [
    "### ['><'[a<b],'=='][a==b]\n",
    "\n",
    "- 앞 부분은 리스트, 뒷 부분은 인덱스이다.\n",
    "- a와 b가 같으면 a==b 값이 1이 되어 리스트의 1번 인덱스의 요소인 '=='를 뜻함\n",
    "- 아닐 경우에는 0이 되어서 '><'[a<b]를 뜻함\n",
    "- 위와 같은 논리로 '>'나 '<'가 출력됨"
   ]
  },
  {
   "cell_type": "code",
   "execution_count": 4,
   "id": "6581bc70",
   "metadata": {},
   "outputs": [
    {
     "name": "stdout",
     "output_type": "stream",
     "text": [
      "5 5\n",
      "==\n"
     ]
    }
   ],
   "source": [
    "# 삼항 연산자 코드\n",
    "A, B = map(int, input().split( ))\n",
    "print('>') if A>B else print('<') if A<B else print('==')"
   ]
  },
  {
   "cell_type": "markdown",
   "id": "cc4ad64c",
   "metadata": {},
   "source": [
    "### 삼항 연산자\n",
    "\n",
    "- 삼항 연산자 코드를 작성하면 if 조건식을 한 줄로 간편하게 작성할 수 있다.\n",
    "- 조건식을 한 줄로 간결하게 표현할 수 있지만 조건식이 복잡한 경우에는 가독성을 떨어뜨릴 수 있음\n",
    "- 삼항 표현식 문법\n",
    "    - true_value if condition else false_value\n",
    "    - condition의 Boolean 값을 기반으로 반환됨\n",
    "        - condition 값이 True이면 true_value, False이면 false_value를 반환함\n",
    "- 위 문제의 경우 elif 조건식이 필요하여 중첩 삼항 연산자 코드로 작성할 수 있다.\n",
    "    - true_value if condition1 else [true_value2 if condition2 else false_value]\n",
    "        - if 조건식의 condition1 값이 True 이면 true_value를 반환하고 False 이면 두 번째 조건식의 Boolean 값을 반환함\n",
    "        - condition2의 값이 True이면 true_value2를, False이면 false_value를 반환함\n",
    "    "
   ]
  }
 ],
 "metadata": {
  "kernelspec": {
   "display_name": "Python 3 (ipykernel)",
   "language": "python",
   "name": "python3"
  },
  "language_info": {
   "codemirror_mode": {
    "name": "ipython",
    "version": 3
   },
   "file_extension": ".py",
   "mimetype": "text/x-python",
   "name": "python",
   "nbconvert_exporter": "python",
   "pygments_lexer": "ipython3",
   "version": "3.10.9"
  }
 },
 "nbformat": 4,
 "nbformat_minor": 5
}

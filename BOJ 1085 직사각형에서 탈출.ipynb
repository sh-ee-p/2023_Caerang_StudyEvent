{
 "cells": [
  {
   "cell_type": "markdown",
   "id": "7aaeaf6d",
   "metadata": {},
   "source": [
    "## BOJ 1085 직사각형에서 탈출"
   ]
  },
  {
   "cell_type": "code",
   "execution_count": 2,
   "id": "ef94bed1",
   "metadata": {},
   "outputs": [
    {
     "name": "stdout",
     "output_type": "stream",
     "text": [
      "6 2 10 3\n",
      "1\n"
     ]
    }
   ],
   "source": [
    "x,y,w,h = map(int, input().split( ))\n",
    "print(min(x,y,w-x,h-y))"
   ]
  },
  {
   "cell_type": "markdown",
   "id": "008b95d4",
   "metadata": {},
   "source": [
    "## 문제\n",
    "- 한수는 지금 (x, y)에 있다. 직사각형은 각 변이 좌표축에 평행하고, 왼쪽 아래 꼭짓점은 (0, 0), 오른쪽 위 꼭짓점은 (w, h)에 있다. 직사각형의 경계선까지 가는 거리의 최솟값을 구하는 프로그램을 작성하시오.\n",
    "\n",
    "------------\n",
    "### 코드 풀이\n",
    "\n",
    "- 원점이 (0,0)이므로 직사각형의 각 변에 닿는 직선 거리 중 가장 짧은 것을 고르면 됨\n",
    "- x축까지가 가장 짧은 경로라면 y\n",
    "- y축까지가 가장 짧은 경로라면 x\n",
    "- x축과 평행한 변까지가 가장 짧은 경로라면 h-y\n",
    "- y축과 평행한 변까지가 가장 짧은 경로라면 w-x\n",
    "- 따라서 x, y, w-x, h-y 중에서 가장 작은 값이 직사각형의 경계선까지 가는 거리의 최솟값이다."
   ]
  }
 ],
 "metadata": {
  "kernelspec": {
   "display_name": "Python 3 (ipykernel)",
   "language": "python",
   "name": "python3"
  },
  "language_info": {
   "codemirror_mode": {
    "name": "ipython",
    "version": 3
   },
   "file_extension": ".py",
   "mimetype": "text/x-python",
   "name": "python",
   "nbconvert_exporter": "python",
   "pygments_lexer": "ipython3",
   "version": "3.10.9"
  }
 },
 "nbformat": 4,
 "nbformat_minor": 5
}

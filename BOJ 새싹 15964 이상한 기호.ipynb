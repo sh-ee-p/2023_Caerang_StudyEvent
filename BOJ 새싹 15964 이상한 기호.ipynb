{
 "cells": [
  {
   "cell_type": "markdown",
   "id": "66badc12",
   "metadata": {},
   "source": [
    "## BOJ 15964 이상한 기호"
   ]
  },
  {
   "cell_type": "code",
   "execution_count": 2,
   "id": "91d3e4b9",
   "metadata": {},
   "outputs": [
    {
     "name": "stdout",
     "output_type": "stream",
     "text": [
      "3 4\n",
      "-7\n"
     ]
    }
   ],
   "source": [
    "A, B = map(int, input().split( ))\n",
    "print((A+B)*(A-B))"
   ]
  }
 ],
 "metadata": {
  "kernelspec": {
   "display_name": "Python 3 (ipykernel)",
   "language": "python",
   "name": "python3"
  },
  "language_info": {
   "codemirror_mode": {
    "name": "ipython",
    "version": 3
   },
   "file_extension": ".py",
   "mimetype": "text/x-python",
   "name": "python",
   "nbconvert_exporter": "python",
   "pygments_lexer": "ipython3",
   "version": "3.10.9"
  }
 },
 "nbformat": 4,
 "nbformat_minor": 5
}

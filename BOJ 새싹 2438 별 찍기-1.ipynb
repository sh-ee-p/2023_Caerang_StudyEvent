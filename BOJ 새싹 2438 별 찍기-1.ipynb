{
 "cells": [
  {
   "cell_type": "markdown",
   "id": "6ad0d31e",
   "metadata": {},
   "source": [
    "## BOJ 2438 별 찍기-1"
   ]
  },
  {
   "cell_type": "code",
   "execution_count": 2,
   "id": "791f57ad",
   "metadata": {},
   "outputs": [
    {
     "name": "stdout",
     "output_type": "stream",
     "text": [
      "5\n",
      "*\n",
      "**\n",
      "***\n",
      "****\n",
      "*****\n"
     ]
    }
   ],
   "source": [
    "N = int(input())\n",
    "for i in range(1, N+1):\n",
    "    print(\"*\"*i)"
   ]
  }
 ],
 "metadata": {
  "kernelspec": {
   "display_name": "Python 3 (ipykernel)",
   "language": "python",
   "name": "python3"
  },
  "language_info": {
   "codemirror_mode": {
    "name": "ipython",
    "version": 3
   },
   "file_extension": ".py",
   "mimetype": "text/x-python",
   "name": "python",
   "nbconvert_exporter": "python",
   "pygments_lexer": "ipython3",
   "version": "3.10.9"
  }
 },
 "nbformat": 4,
 "nbformat_minor": 5
}

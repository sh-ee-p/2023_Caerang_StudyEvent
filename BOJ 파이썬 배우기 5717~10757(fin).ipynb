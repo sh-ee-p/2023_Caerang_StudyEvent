{
 "cells": [
  {
   "cell_type": "code",
   "execution_count": 2,
   "id": "18d99919",
   "metadata": {
    "scrolled": true
   },
   "outputs": [
    {
     "name": "stdout",
     "output_type": "stream",
     "text": [
      "2 2\n",
      "2 3\n",
      "5 5\n",
      "1 1\n",
      "0 0\n",
      "4\n",
      "5\n",
      "10\n",
      "2\n"
     ]
    }
   ],
   "source": [
    "#BOJ5717\n",
    "sumf = []\n",
    "while True:\n",
    "    M, F = map(int, input().split( ))\n",
    "    if M==0 and F==0:\n",
    "        break\n",
    "    sumf.append(M+F)\n",
    "\n",
    "for i in sumf:\n",
    "    print(i)"
   ]
  },
  {
   "cell_type": "code",
   "execution_count": 10,
   "id": "2374443e",
   "metadata": {},
   "outputs": [
    {
     "name": "stdout",
     "output_type": "stream",
     "text": [
      "5\n",
      "0 0\n",
      "0 1\n",
      "1 1\n",
      "3 -3\n",
      "2 2\n",
      "Q1: 2\n",
      "Q2: 0\n",
      "Q3: 0\n",
      "Q4: 1\n",
      "AXIS: 2\n"
     ]
    }
   ],
   "source": [
    "#BOJ9610\n",
    "cnt = int(input())\n",
    "locate = [0,0,0,0,0]\n",
    "for i in range(cnt):\n",
    "    x, y = map(int, input().split( ))\n",
    "    if x>0 and y>0:\n",
    "        locate[0] += 1\n",
    "    elif x<0 and y>0:\n",
    "        locate[1] += 1\n",
    "    elif x<0 and y<0:\n",
    "        locate[2] += 1\n",
    "    elif x>0 and y<0:\n",
    "        locate[3] += 1\n",
    "    else:\n",
    "        locate[4] += 1\n",
    "\n",
    "for i in range(5):\n",
    "    if i>3:\n",
    "        print(f\"AXIS: {locate[i]}\")\n",
    "    else:\n",
    "        print(f\"Q{i+1}: {locate[i]}\")"
   ]
  },
  {
   "cell_type": "code",
   "execution_count": 12,
   "id": "d20cc077",
   "metadata": {},
   "outputs": [
    {
     "name": "stdout",
     "output_type": "stream",
     "text": [
      "5\n",
      "OOXXOXXOOO\n",
      "OOXXOOXXOO\n",
      "OXOXOXOXOXOXOX\n",
      "OOOOOOOOOO\n",
      "OOOOXOOOOXOOOOX\n",
      "10\n",
      "9\n",
      "7\n",
      "55\n",
      "30\n"
     ]
    }
   ],
   "source": [
    "#BOJ8958\n",
    "cnt = int(input())\n",
    "corr = []\n",
    "sumo = []\n",
    "\n",
    "for i in range(cnt):\n",
    "    corr = list(input())\n",
    "    ocnt = 0\n",
    "    sumo.append(0)\n",
    "    for j in range(len(corr)):\n",
    "        if corr[j]==\"O\" and corr[j-1]==\"O\":\n",
    "            ocnt += 1\n",
    "        elif corr[j]==\"O\" and corr[j-1]==\"X\":\n",
    "            ocnt = 1\n",
    "        else:\n",
    "            ocnt = 0\n",
    "        sumo[i] += ocnt\n",
    "\n",
    "for i in sumo:\n",
    "    print(i)\n"
   ]
  },
  {
   "cell_type": "code",
   "execution_count": 34,
   "id": "64773af9",
   "metadata": {},
   "outputs": [
    {
     "name": "stdout",
     "output_type": "stream",
     "text": [
      "6\n",
      "6 = 1 + 2 + 3\n",
      "12\n",
      "12 is NOT perfect.\n",
      "28\n",
      "28 = 1 + 2 + 4 + 7 + 14\n",
      "-1\n"
     ]
    }
   ],
   "source": [
    "#BOJ9506\n",
    "\n",
    "while True:\n",
    "    num_list = []\n",
    "    total = 0\n",
    "    n = int(input())\n",
    "    \n",
    "    if n == -1:\n",
    "        break\n",
    "    \n",
    "    for i in range(1, n//2+1):\n",
    "        if n % i == 0:\n",
    "            num_list.append(i)\n",
    "            total += i\n",
    "            \n",
    "    if total == n:\n",
    "        temp = ' + '.join(str(i) for i in num_list)\n",
    "        print(n, '=', temp)\n",
    "    else:\n",
    "        print('{} is NOT perfect.'.format(n))"
   ]
  },
  {
   "cell_type": "markdown",
   "id": "7ed3805d",
   "metadata": {},
   "source": [
    "## join()\n",
    "\n",
    "- .join(리스트)\n",
    "- join 함수는 매개변수로 들어온 리스트에 있는 요소를 하나씩 합친 하나의 문자열로 반환하는 함수이다.\n",
    "- . 앞의 내용이 구분자로 들어가서 0.join(['a','b','c'])라고 한다면 결과로 a0b0c0이 문자열로 반환되는 것이다.\n",
    "\n",
    "ex)\n",
    "\n",
    "    a = ['a', 'b', 'c', 'd', '1', '2', '3']\n",
    "    result = \"\".join(a)\n",
    "    print(result)\n",
    "    #abcd123\n"
   ]
  },
  {
   "cell_type": "code",
   "execution_count": 43,
   "id": "7312bdd5",
   "metadata": {},
   "outputs": [
    {
     "name": "stdout",
     "output_type": "stream",
     "text": [
      "189\n",
      "-1\n"
     ]
    }
   ],
   "source": [
    "#BOJ10162\n",
    "T = int(input())\n",
    "cntA = 0\n",
    "cntB = 0\n",
    "cntC = 0\n",
    "if T>=300:\n",
    "    while T>=300:\n",
    "        T -= 300\n",
    "        cntA += 1\n",
    "if T>=60:\n",
    "    while T>=60:\n",
    "        T -= 60\n",
    "        cntB += 1\n",
    "if T<60:\n",
    "    while T>0:\n",
    "        T -= 10\n",
    "        cntC += 1\n",
    "if T==0:\n",
    "    print(cntA, cntB, cntC)\n",
    "else:\n",
    "    print(-1)"
   ]
  },
  {
   "cell_type": "code",
   "execution_count": 50,
   "id": "35b6c102",
   "metadata": {},
   "outputs": [
    {
     "name": "stdout",
     "output_type": "stream",
     "text": [
      "4\n",
      "5 6\n",
      "6 6\n",
      "4 3\n",
      "5 2\n",
      "94\n",
      "91\n"
     ]
    }
   ],
   "source": [
    "#BOJ10103\n",
    "n = int(input())\n",
    "cscore = 100\n",
    "sscore = 100\n",
    "\n",
    "for i in range(n):\n",
    "    c, s = map(int, input().split( ))\n",
    "    if c>s:\n",
    "        sscore -= c\n",
    "    elif s>c:\n",
    "        cscore -= s\n",
    "\n",
    "print(cscore)\n",
    "print(sscore)"
   ]
  },
  {
   "cell_type": "code",
   "execution_count": 6,
   "id": "293edafe",
   "metadata": {},
   "outputs": [
    {
     "name": "stdout",
     "output_type": "stream",
     "text": [
      "1\n",
      "1 0\n",
      "0 0\n",
      "0 0\n",
      "0 0\n",
      "0 0\n",
      "0 0\n",
      "0 0\n",
      "0 0\n",
      "0 0\n",
      "Yonsei\n"
     ]
    }
   ],
   "source": [
    "#BOJ10214\n",
    "T = int(input())\n",
    "\n",
    "for i in range(T):\n",
    "    yscore = 0\n",
    "    kscore = 0\n",
    "    for j in range(9):\n",
    "        Y, K = map(int, input().split( ))\n",
    "        yscore += Y\n",
    "        kscore += K    # 이길 때만 점수가 더해지는 게 아니라 획득한 점수는 모두 더함\n",
    "    if yscore>kscore:\n",
    "        print(\"Yonsei\")\n",
    "    elif kscore>yscore:\n",
    "        print(\"Korea\")\n",
    "    else:\n",
    "        print(\"Draw\")"
   ]
  },
  {
   "cell_type": "code",
   "execution_count": 10,
   "id": "df0a3f10",
   "metadata": {},
   "outputs": [
    {
     "name": "stdout",
     "output_type": "stream",
     "text": [
      "2\n",
      "3\n",
      "Yonsei 10\n",
      "Korea 10000000\n",
      "Ewha 20\n",
      "Korea\n",
      "2\n",
      "Yonsei 1\n",
      "Korea 10000000\n",
      "Korea\n"
     ]
    }
   ],
   "source": [
    "#BOJ11557\n",
    "T = int(input())\n",
    "\n",
    "for i in range(T):\n",
    "    scnt = int(input())\n",
    "    maxl = 0\n",
    "    maxs = \"\"\n",
    "    for i in range(scnt):\n",
    "        S, L = input().split( )\n",
    "        L = int(L)\n",
    "        if(L>maxl):\n",
    "            maxl = L\n",
    "            maxs = S\n",
    "    print(maxs)"
   ]
  },
  {
   "cell_type": "code",
   "execution_count": 12,
   "id": "30e11a44",
   "metadata": {},
   "outputs": [
    {
     "name": "stdout",
     "output_type": "stream",
     "text": [
      "9223372036854775807 9223372036854775808\n",
      "18446744073709551615\n"
     ]
    }
   ],
   "source": [
    "#BOJ10757\n",
    "A, B = map(int, input().split( ))\n",
    "print(A+B)"
   ]
  }
 ],
 "metadata": {
  "kernelspec": {
   "display_name": "Python 3 (ipykernel)",
   "language": "python",
   "name": "python3"
  },
  "language_info": {
   "codemirror_mode": {
    "name": "ipython",
    "version": 3
   },
   "file_extension": ".py",
   "mimetype": "text/x-python",
   "name": "python",
   "nbconvert_exporter": "python",
   "pygments_lexer": "ipython3",
   "version": "3.10.9"
  }
 },
 "nbformat": 4,
 "nbformat_minor": 5
}

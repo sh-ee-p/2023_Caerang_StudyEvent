{
 "cells": [
  {
   "cell_type": "code",
   "execution_count": 5,
   "id": "f6db95a7",
   "metadata": {},
   "outputs": [
    {
     "name": "stdout",
     "output_type": "stream",
     "text": [
      "baaa\n",
      "A\n"
     ]
    }
   ],
   "source": [
    "w = input().upper()\n",
    "uL = list(set(w))\n",
    "\n",
    "cnt_L = []\n",
    "for i in uL:\n",
    "    cnt = w.count(i)\n",
    "    cnt_L.append(cnt)\n",
    "\n",
    "if cnt_L.count(max(cnt_L))>1:\n",
    "    print('?')\n",
    "else:\n",
    "    maxi = cnt_L.index(max(cnt_L))\n",
    "    print(uL[maxi])"
   ]
  }
 ],
 "metadata": {
  "kernelspec": {
   "display_name": "Python 3 (ipykernel)",
   "language": "python",
   "name": "python3"
  },
  "language_info": {
   "codemirror_mode": {
    "name": "ipython",
    "version": 3
   },
   "file_extension": ".py",
   "mimetype": "text/x-python",
   "name": "python",
   "nbconvert_exporter": "python",
   "pygments_lexer": "ipython3",
   "version": "3.10.9"
  }
 },
 "nbformat": 4,
 "nbformat_minor": 5
}

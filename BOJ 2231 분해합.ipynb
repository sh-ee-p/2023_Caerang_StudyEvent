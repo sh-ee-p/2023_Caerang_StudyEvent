{
 "cells": [
  {
   "cell_type": "code",
   "execution_count": 3,
   "id": "29188d73",
   "metadata": {},
   "outputs": [
    {
     "name": "stdout",
     "output_type": "stream",
     "text": [
      "216\n",
      "198\n"
     ]
    }
   ],
   "source": [
    "N = int(input())\n",
    "\n",
    "for i in range(1, N+1):\n",
    "    num = sum(map(int, str(i)))   # num = i의 모든 자릿수를 더한 값\n",
    "    sumn = i + num                # 생성자와 num을 합하여 분해합을 만들고\n",
    "    if sumn == N:                 # 분해합이 처음 입력한 값과 같다면\n",
    "        print(i)                  # 그 수를 출력하고 반복을 탈출하여 프로그램을 종료\n",
    "        break                     # 프로그램이 종료되지 않았다면 다음으로 넘어감\n",
    "    if i == N:                    # 분해합과 처음 입력한 값이 서로 다르다면\n",
    "        print(0)                  # 0을 출력"
   ]
  }
 ],
 "metadata": {
  "kernelspec": {
   "display_name": "Python 3 (ipykernel)",
   "language": "python",
   "name": "python3"
  },
  "language_info": {
   "codemirror_mode": {
    "name": "ipython",
    "version": 3
   },
   "file_extension": ".py",
   "mimetype": "text/x-python",
   "name": "python",
   "nbconvert_exporter": "python",
   "pygments_lexer": "ipython3",
   "version": "3.10.9"
  }
 },
 "nbformat": 4,
 "nbformat_minor": 5
}

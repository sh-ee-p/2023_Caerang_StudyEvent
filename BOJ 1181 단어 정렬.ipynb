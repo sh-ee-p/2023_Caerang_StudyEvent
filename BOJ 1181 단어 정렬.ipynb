{
 "cells": [
  {
   "cell_type": "code",
   "execution_count": 2,
   "id": "92843f05",
   "metadata": {},
   "outputs": [
    {
     "name": "stdout",
     "output_type": "stream",
     "text": [
      "13\n",
      "but\n",
      "i\n",
      "wont\n",
      "hesitate\n",
      "no\n",
      "more\n",
      "no\n",
      "more\n",
      "it\n",
      "cannot\n",
      "wait\n",
      "im\n",
      "yours\n",
      "i\n",
      "im\n",
      "it\n",
      "no\n",
      "but\n",
      "more\n",
      "wait\n",
      "wont\n",
      "yours\n",
      "cannot\n",
      "hesitate\n"
     ]
    }
   ],
   "source": [
    "N = int(input())\n",
    "L = []\n",
    "for i in range(N):\n",
    "    L.append(input())\n",
    "setL = set(L)\n",
    "L = list(setL)\n",
    "L.sort()\n",
    "L.sort(key = len)\n",
    "\n",
    "for i in L:\n",
    "    print(i)"
   ]
  }
 ],
 "metadata": {
  "kernelspec": {
   "display_name": "Python 3 (ipykernel)",
   "language": "python",
   "name": "python3"
  },
  "language_info": {
   "codemirror_mode": {
    "name": "ipython",
    "version": 3
   },
   "file_extension": ".py",
   "mimetype": "text/x-python",
   "name": "python",
   "nbconvert_exporter": "python",
   "pygments_lexer": "ipython3",
   "version": "3.10.9"
  }
 },
 "nbformat": 4,
 "nbformat_minor": 5
}

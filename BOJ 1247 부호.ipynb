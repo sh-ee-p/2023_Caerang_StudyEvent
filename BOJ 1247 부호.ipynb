{
 "cells": [
  {
   "cell_type": "code",
   "execution_count": 2,
   "id": "da816e53",
   "metadata": {},
   "outputs": [
    {
     "name": "stdout",
     "output_type": "stream",
     "text": [
      "3\n",
      "0\n",
      "0\n",
      "0\n",
      "0\n",
      "10\n",
      "1\n",
      "2\n",
      "4\n",
      "8\n",
      "16\n",
      "32\n",
      "64\n",
      "128\n",
      "256\n",
      "-512\n",
      "-\n",
      "6\n",
      "9223372036854775807\n",
      "9223372036854775806\n",
      "9223372036854775805\n",
      "-9223372036854775807\n",
      "-9223372036854775806\n",
      "-9223372036854775804\n",
      "+\n"
     ]
    }
   ],
   "source": [
    "for i in range(3):\n",
    "    T = int(input())\n",
    "    s = 0\n",
    "    for j in range(T):\n",
    "        s += int(input())\n",
    "    if s>0:\n",
    "        print(\"+\")\n",
    "    elif s<0:\n",
    "        print(\"-\")\n",
    "    else:\n",
    "        print(\"0\")"
   ]
  },
  {
   "cell_type": "markdown",
   "id": "88df903e",
   "metadata": {},
   "source": [
    "- 위 코드대로는 시간이 너무 오래 걸려서 시간초과가 떠서 백준에서 실패했다고 뜸\n",
    "- import sys 와 sys.stdin.readline을 이용해 입력을 빨리 받아주면 해결 가능하다\n",
    "\n",
    "      import sys\n",
    "      for i in range(3):\n",
    "      T = int(sys.stdin.readline())\n",
    "      s = 0\n",
    "      for j in range(T):\n",
    "          s += int(sys.stdin.readline())\n",
    "      if s>0:\n",
    "          print(\"+\")\n",
    "      elif s<0:\n",
    "          print(\"-\")\n",
    "      else:\n",
    "          print(\"0\")"
   ]
  }
 ],
 "metadata": {
  "kernelspec": {
   "display_name": "Python 3 (ipykernel)",
   "language": "python",
   "name": "python3"
  },
  "language_info": {
   "codemirror_mode": {
    "name": "ipython",
    "version": 3
   },
   "file_extension": ".py",
   "mimetype": "text/x-python",
   "name": "python",
   "nbconvert_exporter": "python",
   "pygments_lexer": "ipython3",
   "version": "3.10.9"
  }
 },
 "nbformat": 4,
 "nbformat_minor": 5
}

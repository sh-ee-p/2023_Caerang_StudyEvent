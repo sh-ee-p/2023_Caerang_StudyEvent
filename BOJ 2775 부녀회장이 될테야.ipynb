{
 "cells": [
  {
   "cell_type": "code",
   "execution_count": 3,
   "id": "3e801497",
   "metadata": {},
   "outputs": [
    {
     "name": "stdout",
     "output_type": "stream",
     "text": [
      "1\n",
      "2\n",
      "3\n",
      "10\n"
     ]
    }
   ],
   "source": [
    "T = int(input())\n",
    "\n",
    "for i in range(T):\n",
    "    floor = int(input())\n",
    "    room = int(input())\n",
    "    f0 = [x for x in range(1, room+1)] # 1부터 room까지 차례로 정렬된 리스트\n",
    "    for k in range(floor):             # 0부터 floor-1까지(floor번) 반복\n",
    "        for j in range(1, room):       # 1부터 room-1까지 반복\n",
    "            f0[j] += f0[j-1]           # f0[1] ~ f0[마지막] 까지 이전 항과 현재 항의 수를 더한 값을 현재 항에 저장\n",
    "    print(f0[-1])                      # f0의 마지막 항을 출력"
   ]
  }
 ],
 "metadata": {
  "kernelspec": {
   "display_name": "Python 3 (ipykernel)",
   "language": "python",
   "name": "python3"
  },
  "language_info": {
   "codemirror_mode": {
    "name": "ipython",
    "version": 3
   },
   "file_extension": ".py",
   "mimetype": "text/x-python",
   "name": "python",
   "nbconvert_exporter": "python",
   "pygments_lexer": "ipython3",
   "version": "3.10.9"
  }
 },
 "nbformat": 4,
 "nbformat_minor": 5
}

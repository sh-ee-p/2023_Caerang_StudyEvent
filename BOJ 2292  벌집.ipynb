{
 "cells": [
  {
   "cell_type": "code",
   "execution_count": 1,
   "id": "e3f3cbc2",
   "metadata": {},
   "outputs": [
    {
     "name": "stdout",
     "output_type": "stream",
     "text": [
      "13\n",
      "3\n"
     ]
    }
   ],
   "source": [
    "N = int(input())\n",
    "\n",
    "hive = 1\n",
    "cnt = 1\n",
    "while N > hive:\n",
    "    hive += 6*cnt\n",
    "    cnt += 1\n",
    "print(cnt)"
   ]
  },
  {
   "cell_type": "markdown",
   "id": "a8653903",
   "metadata": {},
   "source": [
    "## 풀이\n",
    "\n",
    "- 주어진 N 값이 hive 보다 큰 경우, while문이 실행된다.(N이 1인 경우에는 while문 실행되지 않으므로 print(cnt)로 넘어감)\n",
    "- hive에 6xcnt를 해준 값을 더한다.\n",
    "- 6xcnt를 더할 때마다 1번부터의 거리(cnt)1씩 증가한다.\n",
    "- 이것이 반복될 때는 N값이 hive보다 더 크다는 뜻으로 N값보다 hive 값이 더 커지면 while문을 실행하지 않고 1번부터의 거리를 출력한다."
   ]
  }
 ],
 "metadata": {
  "kernelspec": {
   "display_name": "Python 3 (ipykernel)",
   "language": "python",
   "name": "python3"
  },
  "language_info": {
   "codemirror_mode": {
    "name": "ipython",
    "version": 3
   },
   "file_extension": ".py",
   "mimetype": "text/x-python",
   "name": "python",
   "nbconvert_exporter": "python",
   "pygments_lexer": "ipython3",
   "version": "3.10.9"
  }
 },
 "nbformat": 4,
 "nbformat_minor": 5
}

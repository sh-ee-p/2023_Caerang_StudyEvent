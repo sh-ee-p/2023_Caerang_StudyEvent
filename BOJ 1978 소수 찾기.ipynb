{
 "cells": [
  {
   "cell_type": "code",
   "execution_count": 4,
   "id": "aed110a0",
   "metadata": {},
   "outputs": [
    {
     "name": "stdout",
     "output_type": "stream",
     "text": [
      "4\n",
      "1 3 5 7\n",
      "3\n"
     ]
    }
   ],
   "source": [
    "def PN(num):\n",
    "    d = 2\n",
    "    if num==1:\n",
    "        return 0\n",
    "    while d<=num:\n",
    "        if num%d!=0:\n",
    "            d+=1\n",
    "        elif d==num:\n",
    "            break\n",
    "        else:\n",
    "            return 0\n",
    "    return 1\n",
    "\n",
    "N = int(input())\n",
    "L = list(map(int, input().split()))\n",
    "cnt = 0\n",
    "for i in L:\n",
    "    result = PN(i)\n",
    "    if result==1:\n",
    "        cnt += 1\n",
    "print(cnt)"
   ]
  }
 ],
 "metadata": {
  "kernelspec": {
   "display_name": "Python 3 (ipykernel)",
   "language": "python",
   "name": "python3"
  },
  "language_info": {
   "codemirror_mode": {
    "name": "ipython",
    "version": 3
   },
   "file_extension": ".py",
   "mimetype": "text/x-python",
   "name": "python",
   "nbconvert_exporter": "python",
   "pygments_lexer": "ipython3",
   "version": "3.10.9"
  }
 },
 "nbformat": 4,
 "nbformat_minor": 5
}

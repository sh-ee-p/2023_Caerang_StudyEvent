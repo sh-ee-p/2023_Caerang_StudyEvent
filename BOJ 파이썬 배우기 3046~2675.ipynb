{
 "cells": [
  {
   "cell_type": "markdown",
   "id": "866a9ed7",
   "metadata": {},
   "source": [
    "## BOJ 3046~"
   ]
  },
  {
   "cell_type": "code",
   "execution_count": 2,
   "id": "e88da4f1",
   "metadata": {},
   "outputs": [
    {
     "name": "stdout",
     "output_type": "stream",
     "text": [
      "4 3\n",
      "2\n"
     ]
    }
   ],
   "source": [
    "#BOJ3046\n",
    "R1, S = map(int, input().split( ))\n",
    "R2 = S*2-R1\n",
    "print(R2)"
   ]
  },
  {
   "cell_type": "code",
   "execution_count": 5,
   "id": "6ddbe228",
   "metadata": {},
   "outputs": [
    {
     "name": "stdout",
     "output_type": "stream",
     "text": [
      "3 3\n",
      "8\n"
     ]
    }
   ],
   "source": [
    "#BOJ2163\n",
    "N, M = map(int, input().split( ))\n",
    "total = N-1 + N*(M-1)\n",
    "print(total)"
   ]
  },
  {
   "cell_type": "code",
   "execution_count": 20,
   "id": "f68afa04",
   "metadata": {},
   "outputs": [
    {
     "name": "stdout",
     "output_type": "stream",
     "text": [
      "5\n",
      "1 1\n",
      "2 3\n",
      "3 4\n",
      "9 8\n",
      "5 2\n",
      "Case #1: 2\n",
      "Case #2: 5\n",
      "Case #3: 7\n",
      "Case #4: 17\n",
      "Case #5: 7\n"
     ]
    }
   ],
   "source": [
    "# BOJ11021\n",
    "n = int(input())\n",
    "r = []\n",
    "for i in range(n):\n",
    "    A, B = map(int, input().split( ))\n",
    "    r.append(A+B)\n",
    "\n",
    "for i in range(n):\n",
    "    print(f\"Case #{i+1}: {r[i]}\")"
   ]
  },
  {
   "cell_type": "markdown",
   "id": "1995fabf",
   "metadata": {},
   "source": [
    "n = int(input())\n",
    "r = []\n",
    "for i in range(n):\n",
    "    A, B = map(int, input().split( ))\n",
    "    r.append(A+B)\n",
    "\n",
    "for i in range(n):\n",
    "    print(\"Case #\",int(i)+1,\": \", r[i])\n",
    "\n",
    "\n",
    "여기서 print문에 f{}를 사용해서 간단하게 변수를 추가하여 출력할 수 있도록 변경하여 문제를 해결함\n",
    "공백 수에서 틀렸을 것으로 예상"
   ]
  },
  {
   "cell_type": "code",
   "execution_count": 30,
   "id": "4e8afdf0",
   "metadata": {},
   "outputs": [
    {
     "name": "stdout",
     "output_type": "stream",
     "text": [
      "5\n",
      "1 1\n",
      "2 3\n",
      "3 4\n",
      "9 8\n",
      "5 2\n",
      "Case #1: 1 + 1 = 2\n",
      "Case #2: 2 + 3 = 5\n",
      "Case #3: 3 + 4 = 7\n",
      "Case #4: 9 + 8 = 17\n",
      "Case #5: 5 + 2 = 7\n"
     ]
    }
   ],
   "source": [
    "## BOJ11022\n",
    "T = int(input())\n",
    "rr = []\n",
    "\n",
    "for i in range(T):\n",
    "    rr.append([])\n",
    "    A, B = map(int, input().split( ))\n",
    "    rr[i].append(A)\n",
    "    rr[i].append(B)\n",
    "    rr[i].append(A+B)\n",
    "\n",
    "for i in range(T):\n",
    "    print(f\"Case #{i+1}: {rr[i][0]} + {rr[i][1]} = {rr[i][2]}\")"
   ]
  },
  {
   "cell_type": "code",
   "execution_count": 36,
   "id": "8c944a49",
   "metadata": {},
   "outputs": [
    {
     "name": "stdout",
     "output_type": "stream",
     "text": [
      "2023-07-04\n"
     ]
    }
   ],
   "source": [
    "#BOJ10699\n",
    "import datetime\n",
    "\n",
    "d = datetime.datetime.now()\n",
    "dd = d.strftime('%Y-%m-%d')\n",
    "\n",
    "print(dd)"
   ]
  },
  {
   "cell_type": "code",
   "execution_count": 1,
   "id": "23094db1",
   "metadata": {},
   "outputs": [
    {
     "name": "stdout",
     "output_type": "stream",
     "text": [
      "17\n",
      "birman0919\n",
      "\n"
     ]
    }
   ],
   "source": [
    "#BOJ7287\n",
    "print(\"17\\nbirman0919\\n\")"
   ]
  },
  {
   "cell_type": "code",
   "execution_count": 14,
   "id": "37878a68",
   "metadata": {},
   "outputs": [
    {
     "name": "stdout",
     "output_type": "stream",
     "text": [
      "23 48\n",
      "25\n",
      "0 13\n"
     ]
    }
   ],
   "source": [
    "#BOJ2525\n",
    "H, M = map(int, input().split( ))\n",
    "A = int(input())\n",
    "\n",
    "M = M+A\n",
    "while M>=60:\n",
    "    if(M>=60):\n",
    "        H = H+1\n",
    "        M = M-60\n",
    "\n",
    "if(H>=24):\n",
    "    H = H-24\n",
    "\n",
    "print(H, M)"
   ]
  },
  {
   "cell_type": "code",
   "execution_count": 25,
   "id": "61e68a09",
   "metadata": {},
   "outputs": [
    {
     "name": "stdout",
     "output_type": "stream",
     "text": [
      "23 48\n",
      "25\n",
      "0 13\n"
     ]
    }
   ],
   "source": [
    "#BOJ2525--\n",
    "h,m = map(int, input().split( ))\n",
    "t = int(input())\n",
    "m+=t\n",
    "print((h+m//60)%24,m%60)"
   ]
  },
  {
   "cell_type": "code",
   "execution_count": 21,
   "id": "fd3d9e64",
   "metadata": {},
   "outputs": [
    {
     "name": "stdout",
     "output_type": "stream",
     "text": [
      "14 30 0\n",
      "200\n",
      "14 33 20\n"
     ]
    }
   ],
   "source": [
    "#BOJ2530\n",
    "h,m,s = map(int, input().split( ))\n",
    "s+=int(input())\n",
    "m+=s//60\n",
    "print((h+m//60)%24, m%60, s%60)"
   ]
  },
  {
   "cell_type": "markdown",
   "id": "61bf5c3d",
   "metadata": {},
   "source": [
    "## BOJ2914:저작권\n",
    "### 문제\n",
    "------------\n",
    "창영이는 노래 여러 개를 이어서 부르는 가수이다. 유명한 노래의 비슷한 멜로디를 이어서 부르면서 언제 곡이 넘어갔는지 모르게 만드는 것이 창영이 노래의 특징이다. 이런 노래로 상업적으로 엄청난 성공을 거둔 창영이에게 큰 시련이 찾아왔다. 그것은 바로 저작권이었다.\n",
    "\n",
    "창영이의 노래에 포함되어 있는 멜로디는 모두 저작권이 다른 사람에게 있는 노래이다. 따라서, 이 음악으로 상업적인 활동을 했기 때문에, 저작권 협회에 저작권료를 내야한다.\n",
    "\n",
    "창영이는 자신의 앨범에 포함되어있는 저작권이 있는 멜로디의 평균값을 구해보기로 했다. 이 값은 아래와 같이 구할 수 있다.\n",
    "\n",
    "(창영이 앨범에 수록된 곡에 포함되어 있는 저작권이 있는 멜로디의 개수) / (앨범에 수록된 곡의 개수)\n",
    "\n",
    "이때, 평균값은 항상 올림을 해서 정수로 만들어야 한다. 예를 들어, 창영이의 1집 앨범 \"영창에서 영원히 영창피아노를 친다\"에 총 38개 곡이 수록되어 있고, 이 앨범에 저작권이 있는 멜로디가 894개가 있다면, 평균값은 23.53이 되고 올림해서 24가 된다.\n",
    "\n",
    "매니저 강산이는 얼마나 많은 사람에게 저작권료를 주어야 하는지 궁금해졌다. 강산이가 알고 있는 정보는 앨범에 수록되어 있는 곡의 개수와 위에서 구한 평균값이다. 이때, 적어도 몇 곡이 저작권이 있는 멜로디인지 구하는 프로그램을 작성하시오.\n",
    "\n",
    "\n",
    "### 입력\n",
    "------------------\n",
    "첫째 줄에 앨범에 수록된 곡의 개수 A와 평균값 I가 주어진다. (1 ≤ A, I ≤ 100)\n",
    "\n",
    "\n",
    "\n",
    "### 출력\n",
    "------------------\n",
    "첫째 줄에 적어도 몇 곡이 저작권이 있는 멜로디인지 출력한다.\n",
    "\n",
    "\n",
    "\n",
    "## 접근\n",
    "------------------------\n",
    "평균값은 항상 올려서 정수로 만듦 -> 평균값 = (창영 앨범 수록곡의 저작권 있는 멜로디 개수) / (앨범 수록곡 수)의 올림값\n",
    "\n",
    "따라서 수록곡 수와 평균값-1을 서로 곱한 뒤 +1을 하면 저작권 있는 멜로디의 최소 개수를 구할 수 있다.\n",
    "\n",
    "\n",
    "\n",
    "### 정답\n",
    "----------------------------\n",
    "A, I = input().split( )\n",
    "A = int(A)\n",
    "I = int(I)-1\n",
    "\n",
    "print(A*I+1)"
   ]
  },
  {
   "cell_type": "code",
   "execution_count": 28,
   "id": "dc581ef5",
   "metadata": {},
   "outputs": [
    {
     "name": "stdout",
     "output_type": "stream",
     "text": [
      "10 10\n",
      "91\n"
     ]
    }
   ],
   "source": [
    "#BOJ2914\n",
    "A, I = map(int, input().split( ))\n",
    "I = I-1\n",
    "\n",
    "print(A*I+1)"
   ]
  },
  {
   "cell_type": "code",
   "execution_count": 40,
   "id": "0e8fa8fb",
   "metadata": {},
   "outputs": [
    {
     "name": "stdout",
     "output_type": "stream",
     "text": [
      "3\n",
      "3 @ %\n",
      "10.4 # % @\n",
      "8 #\n",
      "14.00\n",
      "25.20\n",
      "1.00\n"
     ]
    }
   ],
   "source": [
    "#BOJ5355\n",
    "n = int(input())\n",
    "answer = []\n",
    "for _ in range(n):\n",
    "    line = list(map(str, input().split()))\n",
    "    ans = line[0]\n",
    "    for i in range(len(line)):\n",
    "        if i == 0:\n",
    "            ans = float(line[i])\n",
    "        elif line[i] == '@':\n",
    "            ans *= 3\n",
    "        elif line[i] == '%':\n",
    "            ans += 5\n",
    "        elif line[i] == '#':\n",
    "            ans -= 7\n",
    "    answer.append(ans)\n",
    "\n",
    "for i in range(n):\n",
    "    print(\"{:.2f}\".format(answer[i]))"
   ]
  },
  {
   "cell_type": "markdown",
   "id": "5e1d4063",
   "metadata": {},
   "source": [
    "### len()\n",
    "\n",
    "- len()은 문자열의 길이를 반환하는 함수임\n",
    "- 정수나 실수 등은 문자열이 아니어서 문자열로 변환 후 사용\n",
    "- 리스트나 튜플 등에서는 그 안에 속한 값의 개수를 반환함\n",
    "\n",
    "ex) len(\"abc\") # 3"
   ]
  },
  {
   "cell_type": "markdown",
   "id": "02326d81",
   "metadata": {},
   "source": [
    "### '{}'를 이용한 포맷팅 - 변수 타입 관계 없이 {}\n",
    "\n",
    "- {}을 사용해서 포맷팅할 때 값의 데이터 타입에 관계없이 {}을 써주기만 하면 됨\n",
    "\n",
    "- {:.2f}라고 표현하여 실수를 소수점 아래 두번째 자리까지 반올림하여 표현할 수 있음\n",
    "\n",
    "- {:>n}(여기서 n은 양수) 은 포맷팅하는 데이터를 3자리 차지하여 표현하라는 의미인데, 여기서 방향이 오른쪽이므로 포맷팅하는 데이터가 오른쪽으로 정렬되어 표현됨\n",
    "\n",
    "- ^은 가운데 정렬, <은 왼쪽 정렬을 함\n",
    "\n",
    "- {:0>3}으로 예를 들면 00(포맷된 값) 으로 표현됨\n",
    "\n",
    "- 외에도 %포맷팅, f-string포맷팅이 있음\n",
    "\n",
    "\n",
    "ex) print('{}'.format(1234))\n",
    "    print('{:>10}'.format(5))\n",
    "    print('{:<10f}'.format(5))\n",
    "    print('{:^10.2f}'.format(5))\n",
    "    \n",
    "출력 :\n",
    "    1234\n",
    "             5\n",
    "    5.000000  \n",
    "       5.00   "
   ]
  },
  {
   "cell_type": "code",
   "execution_count": 62,
   "id": "f72677e5",
   "metadata": {},
   "outputs": [
    {
     "name": "stdout",
     "output_type": "stream",
     "text": [
      "2\n",
      "3 ABC\n",
      "5 /HTP\n",
      "AAABBBCCC\n",
      "/////HHHHHTTTTTPPPPP\n"
     ]
    }
   ],
   "source": [
    "#BOJ2675\n",
    "T = int(input())\n",
    "answers = []\n",
    "\n",
    "for i in range(T):\n",
    "    cnt, word = input().split( )\n",
    "    answer = []\n",
    "    for j in word:\n",
    "        a = j*int(cnt)\n",
    "        answer.append(a)\n",
    "    answers.append(answer)\n",
    "\n",
    "for i in range(T):\n",
    "    for j in answers[i]:\n",
    "        print(j, end='')\n",
    "    print()"
   ]
  }
 ],
 "metadata": {
  "kernelspec": {
   "display_name": "Python 3 (ipykernel)",
   "language": "python",
   "name": "python3"
  },
  "language_info": {
   "codemirror_mode": {
    "name": "ipython",
    "version": 3
   },
   "file_extension": ".py",
   "mimetype": "text/x-python",
   "name": "python",
   "nbconvert_exporter": "python",
   "pygments_lexer": "ipython3",
   "version": "3.10.9"
  }
 },
 "nbformat": 4,
 "nbformat_minor": 5
}

{
 "cells": [
  {
   "cell_type": "code",
   "execution_count": 6,
   "id": "4489881e",
   "metadata": {},
   "outputs": [
    {
     "name": "stdout",
     "output_type": "stream",
     "text": [
      "5 2\n",
      "10\n"
     ]
    }
   ],
   "source": [
    "#(n)\n",
    "#(k) 는 nCk == n! / k!(n-k!)\n",
    "# 반복문 풀이\n",
    "def fac(num):\n",
    "    if num==0:\n",
    "        return 1\n",
    "    result = 1\n",
    "    for i in range(1, num+1):\n",
    "        result *= i\n",
    "    return result\n",
    "\n",
    "N, K = map(int, input().split())\n",
    "print(fac(N) // (fac(K) * fac(N-K)))"
   ]
  },
  {
   "cell_type": "code",
   "execution_count": 7,
   "id": "071df114",
   "metadata": {},
   "outputs": [
    {
     "name": "stdout",
     "output_type": "stream",
     "text": [
      "5 2\n",
      "10\n"
     ]
    }
   ],
   "source": [
    "# 재귀문 풀이\n",
    "def fac(num):\n",
    "    if num==0:\n",
    "        return 1\n",
    "    return num*fac(num-1)\n",
    "\n",
    "N, K = map(int, input().split())\n",
    "print(fac(N) // (fac(K) * fac(N-K)))"
   ]
  }
 ],
 "metadata": {
  "kernelspec": {
   "display_name": "Python 3 (ipykernel)",
   "language": "python",
   "name": "python3"
  },
  "language_info": {
   "codemirror_mode": {
    "name": "ipython",
    "version": 3
   },
   "file_extension": ".py",
   "mimetype": "text/x-python",
   "name": "python",
   "nbconvert_exporter": "python",
   "pygments_lexer": "ipython3",
   "version": "3.10.9"
  }
 },
 "nbformat": 4,
 "nbformat_minor": 5
}

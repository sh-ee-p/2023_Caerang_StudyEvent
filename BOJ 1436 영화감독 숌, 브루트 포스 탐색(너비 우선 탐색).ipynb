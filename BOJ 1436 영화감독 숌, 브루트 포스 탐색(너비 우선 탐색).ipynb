{
 "cells": [
  {
   "cell_type": "code",
   "execution_count": 3,
   "id": "1742a4c5",
   "metadata": {},
   "outputs": [
    {
     "name": "stdout",
     "output_type": "stream",
     "text": [
      "500\n",
      "166699\n"
     ]
    }
   ],
   "source": [
    "N = int(input())\n",
    "first = 666\n",
    "while N!=0:\n",
    "    if '666' in str(first): # 만약 666이 문자열 first 안에 있다면\n",
    "        N = N-1             # N을 1 감소\n",
    "        if N == 0:\n",
    "            break\n",
    "    first = first + 1       # first의 값을 1씩 증가시킴\n",
    "print(first)"
   ]
  },
  {
   "cell_type": "markdown",
   "id": "3a9087fd",
   "metadata": {},
   "source": [
    "## 브루트 포스 탐색(brute force search)\n",
    "\n",
    "- 무식한 힘이라는 이름답게 완전탐색 알고리즘임\n",
    "- 가능한 모든 경우의 수를 모두 탐색하면서 요구조건에 충족되는 결과만 가져옴\n",
    "- 강점은 예외 없이 100% 확률로 정답만을 출력함\n",
    "    - 일반적 방법으로 문제를 해결하기 위해서 모든 자료를 탐색해야 하므로 특정한 구조를 전체적으로 탐색할 수 있는 방법을 필요로 함\n",
    "    - 알고리즘 설계의 가장 기본적인 접근 방법은 해가 존재할 것으로 예상되는 모든 영역을 전체 탐색하는 방법임\n",
    "    - 선형 구조를 전체적으로 탐색하는 순차 탐색, 비선형 구조를 전체적으로 탐색하는 깊이 우선 탐색(DFS, Depth First Search)과 너비 우선 탐색(BFS, Breadth First Search)이 가장 기본적인 도구임\n",
    "        - 너비 우선 탐색은 브루트 포스와 관련이 깊고, 깊이 우선 탐색은 백트래킹과 관련이 깊다.\n",
    "\n",
    "------------\n",
    "## 문제 해결 방법\n",
    "\n",
    "- 주어진 문제를 선형 구조로 구조화한다.\n",
    "- 구조화된 문제공간을 적절한 방법으로 해를 구성할 때까지 탐색한다.\n",
    "- 구성된 해를 정리한다.\n",
    "\n",
    "----------------\n",
    "## 너비 우선 탐색(DFS, Depth First Searching)\n",
    "\n",
    "- 그래프에서 완전탐색 방법 중 하나\n",
    "- 탐색트리의 루트노드부터 목표노드를 만날 때까지 단계별로 횡방향으로 탐색을 진행해 나가는 방식\n",
    "- 장점\n",
    "    - 출발노드에서 목표노드까지의 최단 길이 경로를 보장함\n",
    "- 단점\n",
    "    - 경로가 매우 길 경우에는 탐색 가지가 급격히 증가함에 따라 보다 많은 기억 공간을 필요로 함\n",
    "    - 해가 존재하지 않는다면 유한 그래프의 경우에는 모든 그래프를 탐색한 후에 실패로 끝남\n",
    "    - 무한 그래프의 경우에는 결코 해를 찾지도 못하고, 끝내지도 못함"
   ]
  }
 ],
 "metadata": {
  "kernelspec": {
   "display_name": "Python 3 (ipykernel)",
   "language": "python",
   "name": "python3"
  },
  "language_info": {
   "codemirror_mode": {
    "name": "ipython",
    "version": 3
   },
   "file_extension": ".py",
   "mimetype": "text/x-python",
   "name": "python",
   "nbconvert_exporter": "python",
   "pygments_lexer": "ipython3",
   "version": "3.10.9"
  }
 },
 "nbformat": 4,
 "nbformat_minor": 5
}

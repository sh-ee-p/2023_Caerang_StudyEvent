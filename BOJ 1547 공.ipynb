{
 "cells": [
  {
   "cell_type": "code",
   "execution_count": 7,
   "id": "4778553a",
   "metadata": {},
   "outputs": [
    {
     "name": "stdout",
     "output_type": "stream",
     "text": [
      "9\n",
      "1 2\n",
      "3 2\n",
      "1 2\n",
      "2 1\n",
      "2 1\n",
      "3 2\n",
      "1 3\n",
      "3 1\n",
      "1 2\n",
      "1\n"
     ]
    }
   ],
   "source": [
    "M = int(input())\n",
    "C = [1,2,3]\n",
    "for i in range(M):\n",
    "    e, c = map(int, input().split())\n",
    "    ei = C.index(e)\n",
    "    ci = C.index(c)\n",
    "    C[ei],C[ci] = C[ci],C[ei]\n",
    "print(C[0])"
   ]
  }
 ],
 "metadata": {
  "kernelspec": {
   "display_name": "Python 3 (ipykernel)",
   "language": "python",
   "name": "python3"
  },
  "language_info": {
   "codemirror_mode": {
    "name": "ipython",
    "version": 3
   },
   "file_extension": ".py",
   "mimetype": "text/x-python",
   "name": "python",
   "nbconvert_exporter": "python",
   "pygments_lexer": "ipython3",
   "version": "3.10.9"
  }
 },
 "nbformat": 4,
 "nbformat_minor": 5
}

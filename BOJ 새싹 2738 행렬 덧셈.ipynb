{
 "cells": [
  {
   "cell_type": "markdown",
   "id": "41a84ae8",
   "metadata": {},
   "source": [
    "## BOJ 2738 행렬 덧셈"
   ]
  },
  {
   "cell_type": "code",
   "execution_count": 4,
   "id": "3991fcea",
   "metadata": {},
   "outputs": [
    {
     "name": "stdout",
     "output_type": "stream",
     "text": [
      "3 3\n",
      "1 1 1\n",
      "2 2 2\n",
      "0 1 0\n",
      "3 3 3\n",
      "4 4 4\n",
      "5 5 100\n",
      "4 4 4 \n",
      "6 6 6 \n",
      "5 6 100 \n"
     ]
    }
   ],
   "source": [
    "A, B = [],[]\n",
    "N, M = map(int, input().split( ))\n",
    "\n",
    "for i in range(N):\n",
    "    L = list(map(int, input().split( )))\n",
    "    A.append(L)\n",
    "for i in range(N):\n",
    "    La = list(map(int, input().split( )))\n",
    "    B.append(La)\n",
    "\n",
    "for i in range(N):\n",
    "    for j in range(M):\n",
    "        print(int(A[i][j]) + int(B[i][j]), end=\" \")\n",
    "    print()"
   ]
  }
 ],
 "metadata": {
  "kernelspec": {
   "display_name": "Python 3 (ipykernel)",
   "language": "python",
   "name": "python3"
  },
  "language_info": {
   "codemirror_mode": {
    "name": "ipython",
    "version": 3
   },
   "file_extension": ".py",
   "mimetype": "text/x-python",
   "name": "python",
   "nbconvert_exporter": "python",
   "pygments_lexer": "ipython3",
   "version": "3.10.9"
  }
 },
 "nbformat": 4,
 "nbformat_minor": 5
}

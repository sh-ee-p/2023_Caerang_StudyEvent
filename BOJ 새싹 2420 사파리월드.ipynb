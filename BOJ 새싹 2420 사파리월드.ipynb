{
 "cells": [
  {
   "cell_type": "markdown",
   "id": "030f1ba2",
   "metadata": {},
   "source": [
    "## BOJ 2420 사파리월드"
   ]
  },
  {
   "cell_type": "code",
   "execution_count": 4,
   "id": "a45aa493",
   "metadata": {},
   "outputs": [
    {
     "name": "stdout",
     "output_type": "stream",
     "text": [
      "1 -7\n",
      "8\n"
     ]
    }
   ],
   "source": [
    "N, M = map(int, input().split( ))\n",
    "if N-M<0:\n",
    "    print(-(N-M))\n",
    "else:\n",
    "    print(N-M)"
   ]
  },
  {
   "cell_type": "code",
   "execution_count": 8,
   "id": "7ad9d167",
   "metadata": {},
   "outputs": [
    {
     "name": "stdout",
     "output_type": "stream",
     "text": [
      "-2 5\n",
      "7\n"
     ]
    }
   ],
   "source": [
    "# 삼항 연산자 활용\n",
    "N, M = map(int, input().split( ))\n",
    "print(-(N-M)) if N-M<0 else print(N-M)"
   ]
  },
  {
   "cell_type": "code",
   "execution_count": 9,
   "id": "3a050b73",
   "metadata": {},
   "outputs": [
    {
     "name": "stdout",
     "output_type": "stream",
     "text": [
      "-2 5\n",
      "7\n"
     ]
    }
   ],
   "source": [
    "# 절대값 계산 함수 abs()\n",
    "print(abs(eval(input().replace(*\" -\"))))"
   ]
  },
  {
   "cell_type": "markdown",
   "id": "19ed259e",
   "metadata": {},
   "source": [
    "## abs() : 절대값 계산\n",
    "\n",
    "- 절대값을 계산하는데 사용하는 방법 중 가장 기본적인 방법\n",
    "- 문법\n",
    "    - abs(x)   # 여기서 x는 숫자 데이터\n",
    "\n",
    "\n",
    "- 유사한 다른 함수\n",
    "    - math 모듈의 math.fabs()\n",
    "        - 부동소수점 숫자의 절대값을 반환함\n",
    "        - math.fabs(x)\n",
    "    - numpy 모듈의 numpy.abs() 또는 numpy.absolute()\n",
    "        - 배열의 요소별 절대값을 계산할 수 있음\n",
    "- numpy.abs()\n",
    "        \n",
    "        import numpy as np\n",
    "        arr = np.array([-1, 2, -3, 4, -5])\n",
    "        result = np.abs(arr)  #[1 2 3 4 5]"
   ]
  },
  {
   "cell_type": "code",
   "execution_count": 12,
   "id": "94cc245e",
   "metadata": {},
   "outputs": [
    {
     "name": "stdout",
     "output_type": "stream",
     "text": [
      "[1 2 3 4 5]\n"
     ]
    }
   ],
   "source": [
    "import numpy as np\n",
    "arr = np.array([-1, 2, -3, 4, -5])\n",
    "result = np.abs(arr)\n",
    "print(result)"
   ]
  }
 ],
 "metadata": {
  "kernelspec": {
   "display_name": "Python 3 (ipykernel)",
   "language": "python",
   "name": "python3"
  },
  "language_info": {
   "codemirror_mode": {
    "name": "ipython",
    "version": 3
   },
   "file_extension": ".py",
   "mimetype": "text/x-python",
   "name": "python",
   "nbconvert_exporter": "python",
   "pygments_lexer": "ipython3",
   "version": "3.10.9"
  }
 },
 "nbformat": 4,
 "nbformat_minor": 5
}

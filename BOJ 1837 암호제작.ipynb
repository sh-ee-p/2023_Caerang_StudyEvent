{
 "cells": [
  {
   "cell_type": "code",
   "execution_count": 3,
   "id": "5dad378a",
   "metadata": {},
   "outputs": [
    {
     "name": "stdout",
     "output_type": "stream",
     "text": [
      "77 12\n",
      "BAD 7\n"
     ]
    }
   ],
   "source": [
    "P, K = map(int, input().split())\n",
    "Y = 0\n",
    "for i in range(2, K):\n",
    "    if P%i == 0:\n",
    "        Y = i\n",
    "        break\n",
    "\n",
    "if Y!=0:\n",
    "    print('BAD', Y)\n",
    "else:\n",
    "    print('GOOD')"
   ]
  }
 ],
 "metadata": {
  "kernelspec": {
   "display_name": "Python 3 (ipykernel)",
   "language": "python",
   "name": "python3"
  },
  "language_info": {
   "codemirror_mode": {
    "name": "ipython",
    "version": 3
   },
   "file_extension": ".py",
   "mimetype": "text/x-python",
   "name": "python",
   "nbconvert_exporter": "python",
   "pygments_lexer": "ipython3",
   "version": "3.10.9"
  }
 },
 "nbformat": 4,
 "nbformat_minor": 5
}

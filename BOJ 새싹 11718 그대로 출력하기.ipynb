{
 "cells": [
  {
   "cell_type": "markdown",
   "id": "8eb06e64",
   "metadata": {},
   "source": [
    "## BOJ 11718 그대로 출력하기"
   ]
  },
  {
   "cell_type": "code",
   "execution_count": 3,
   "id": "3cf53562",
   "metadata": {},
   "outputs": [
    {
     "name": "stdout",
     "output_type": "stream",
     "text": [
      "Hello\n",
      "Hello\n",
      "Baekjoon\n",
      "Baekjoon\n",
      "Online Judge\n",
      "Online Judge\n",
      "\n",
      "\n"
     ]
    }
   ],
   "source": [
    "while True:\n",
    "    try:\n",
    "        A = input()\n",
    "        print(A)\n",
    "    except:\n",
    "        break"
   ]
  },
  {
   "cell_type": "markdown",
   "id": "45fea7cd",
   "metadata": {},
   "source": [
    "# KeyboardINTERRUPT\n",
    "\n",
    "- 사용자가 키보드를 이용해서 ctrl+C나 ctrl+Z 명령을 눌러서 프로그램을 방해하면 KeyboardInterrupt 예외가 증가함\n",
    "- jupyter의 kernel을 방해하면 KeyboardInterrupt 오류를 증가하게 함(프로그램을 실행 도중에 갑자기 중단하게 함)\n",
    "\n",
    "---------------------\n",
    "# 해결방법\n",
    "\n",
    "- 예외를 다듬어야 프로그램이 도중에 방해받지 않고 계속 실행하게 할 수 있음\n",
    "- KeyboardInterrupt 예외는 try-except블록으로 쉽게 다룰 수 있음\n",
    "- try 블록 안에 KeyboardInterrupt 예외가 결과가 되는 코드를 작성하고\n",
    "- except 블록 안에 KeyboardInterrupt 오류와 문법 오류를 작성한다"
   ]
  }
 ],
 "metadata": {
  "kernelspec": {
   "display_name": "Python 3 (ipykernel)",
   "language": "python",
   "name": "python3"
  },
  "language_info": {
   "codemirror_mode": {
    "name": "ipython",
    "version": 3
   },
   "file_extension": ".py",
   "mimetype": "text/x-python",
   "name": "python",
   "nbconvert_exporter": "python",
   "pygments_lexer": "ipython3",
   "version": "3.10.9"
  }
 },
 "nbformat": 4,
 "nbformat_minor": 5
}

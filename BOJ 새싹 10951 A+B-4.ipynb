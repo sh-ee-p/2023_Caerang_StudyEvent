{
 "cells": [
  {
   "cell_type": "markdown",
   "id": "b97a7f37",
   "metadata": {},
   "source": [
    "## BOJ 10951 A+B-4"
   ]
  },
  {
   "cell_type": "code",
   "execution_count": 2,
   "id": "49ddcd9e",
   "metadata": {},
   "outputs": [
    {
     "name": "stdout",
     "output_type": "stream",
     "text": [
      "1 1\n",
      "2\n",
      "2 3\n",
      "5\n",
      "3 4\n",
      "7\n",
      "9 8\n",
      "17\n",
      "5 2\n",
      "7\n",
      "\n"
     ]
    }
   ],
   "source": [
    "while True:\n",
    "    try:\n",
    "        a, b = map(int, input().split( ))\n",
    "        print(a+b)\n",
    "    except:\n",
    "        break"
   ]
  },
  {
   "cell_type": "markdown",
   "id": "5fd02de8",
   "metadata": {},
   "source": [
    "# 예외처리\n",
    "\n",
    "- 에러가 발생했을 때 프로그램이 해결할 수 있도록 만드는 것(프로그램이 갑자기 죽는 것을 방지)\n",
    "- try, except를 이용\n",
    "    - try : 에러가 발생하는, 에러가 발생할 것으로 예상되는 곳에 작성\n",
    "    - except: 에러를 처리할 코드 작성    \n",
    "\n",
    "ex)\n",
    "\n",
    "    print(\"== Program Start==\")\n",
    "    try:\n",
    "        a=99/0      #error\n",
    "        print(f\"99/0 : {a}\")\n",
    "    except:\n",
    "        print(\"== except\")\n",
    "    print(\"== Program End\")\n",
    "\n",
    "- 설명)\n",
    "    - a=99/0 코드가 실행되면서 그 라인에서 에러가 발생하고 바로 except로 넘어감\n",
    "    - 에러가 발생한 a=99/0 다음 줄은 실행되지 않음\n",
    "    - 에러가 발생했음에도 프로그램이 죽지 않고, 살아서 \"== Program End\"까지 출력하고 끝남\n",
    "\n",
    "------------\n",
    "### 파이썬 예외 처리 try, except, else, finally\n",
    "\n",
    "- try, except는 위의 내용과 같음\n",
    "- else는 에러가 발생하지 않았을 때 거치는 구문임\n",
    "- try + else로 else만 단독으로 사용은 불가능함(except가 필수임)\n",
    "\n",
    "ex)\n",
    "    \n",
    "    print(\"== Program Start\")\n",
    "    \n",
    "    try:\n",
    "        arr = ['a,'b','c','d']\n",
    "        print(arr[0])\n",
    "        print(\"== Mid\")\n",
    "    except:\n",
    "        print(\"== except\")\n",
    "    else:\n",
    "        print(\"== else\")\n",
    "    print(\"== Program End\")\n",
    "    \n",
    "- 설명) try안의 코드가 정상적으로 실행되기 때문에 try구문 이후 else 구문으로 넘어가서 ==else 가 출력되고, 예외가 발생하지 않아 try 내부의 모든 코드가 실행됨\n",
    "\n",
    "---------------------\n",
    "### try + finally\n",
    "\n",
    "- finally는 에러가 발생하든, 하지 않든 무조건 거치는 구문임\n",
    "- except 없이 try+finally만 사용하면 에러가 발생한 후에 finally 구문까지만 실행되고 프로그램이 중간에 죽어버림\n",
    "\n",
    "ex)\n",
    "\n",
    "    print(\"== Program Start\")\n",
    "    try:\n",
    "        arr = ['a','b','c','d']\n",
    "        print(arr[8])     #error\n",
    "        print(\"== Mid\")\n",
    "    finally:\n",
    "        print(\"== finally\")\n",
    "    print(\"== Program End\")\n",
    "    \n",
    "- 설명) arr[8]에 접근 후에 프로그램이 비정상 종료되어야 하는데 finally까지 가서 \"== finally\"를 출력한 뒤에 비정상 종료됨\n",
    "- finally 예제로 흔한 것은 파일 닫기임\n",
    "    - 오픈한 파일이 에러가 발생하든 그렇지 않든 무조건 닫아야 하는 경우에 finally에 파일 닫는 로직을 작성해야 하기 때문\n",
    "\n",
    "--------------\n",
    "### try + except + finally\n",
    "\n",
    "ex)\n",
    "\n",
    "    print(\"== Program Start\")\n",
    "    \n",
    "    try:\n",
    "        arr = ['a','b','c','d']\n",
    "        print(arr[8])     #error\n",
    "        print(\"== Mid\")\n",
    "    except:\n",
    "        print(\"== except\")\n",
    "    finally:\n",
    "        print(\"== finally\")\n",
    "    print(\"== Program End\")\n",
    "    \n",
    "- 설명) arr[8]에서 에러가 발생하고 바로 except구문으로 예외처리하여 프로그램이 종료되지 않음 + 마지막으로 finally 구문 실행 + 프로그램 정상 동작하여 마지막 출력문 출력 후 프로그램 정상 종료"
   ]
  }
 ],
 "metadata": {
  "kernelspec": {
   "display_name": "Python 3 (ipykernel)",
   "language": "python",
   "name": "python3"
  },
  "language_info": {
   "codemirror_mode": {
    "name": "ipython",
    "version": 3
   },
   "file_extension": ".py",
   "mimetype": "text/x-python",
   "name": "python",
   "nbconvert_exporter": "python",
   "pygments_lexer": "ipython3",
   "version": "3.10.9"
  }
 },
 "nbformat": 4,
 "nbformat_minor": 5
}

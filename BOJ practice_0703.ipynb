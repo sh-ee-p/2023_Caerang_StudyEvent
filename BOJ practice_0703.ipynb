{
 "cells": [
  {
   "cell_type": "markdown",
   "id": "da9b8e01",
   "metadata": {},
   "source": [
    "## map(function, iterable)\n",
    "- 첫 번째 매개변수는 함수\n",
    "- 두 번째 매개변수는 반복 가능한 자료형(리스트, 튜플 등)\n",
    "- map 함수의 반환 값은 map 객체이기 때문에 자료형을 list나 tuple로 형 변환해야 함\n",
    "- 기능 : 두 번째 인자로 들어온 반복 가능한 자료형을 첫 번째 인자로 들어온 함수에 하나씩 집어넣어서 함수를 수행\n",
    "\n"
   ]
  },
  {
   "cell_type": "code",
   "execution_count": 6,
   "id": "052bffa9",
   "metadata": {},
   "outputs": [
    {
     "name": "stdout",
     "output_type": "stream",
     "text": [
      "10 20\n",
      "30\n"
     ]
    }
   ],
   "source": [
    "#BOJ1000\n",
    "a, b = map(int, input().split( ))\n",
    "print(a+b)"
   ]
  },
  {
   "cell_type": "code",
   "execution_count": 8,
   "id": "24240883",
   "metadata": {},
   "outputs": [
    {
     "name": "stdout",
     "output_type": "stream",
     "text": [
      "3 4\n",
      "12\n"
     ]
    }
   ],
   "source": [
    "#BOJ10998\n",
    "a, b = map(int, input().split( ))\n",
    "print(a*b)"
   ]
  },
  {
   "cell_type": "code",
   "execution_count": 9,
   "id": "6b360cde",
   "metadata": {},
   "outputs": [
    {
     "name": "stdout",
     "output_type": "stream",
     "text": [
      "3 2\n",
      "1\n"
     ]
    }
   ],
   "source": [
    "#BOJ1001\n",
    "a, b = map(int, input().split( ))\n",
    "print(a-b)"
   ]
  },
  {
   "cell_type": "code",
   "execution_count": 11,
   "id": "17f85792",
   "metadata": {
    "scrolled": true
   },
   "outputs": [
    {
     "name": "stdout",
     "output_type": "stream",
     "text": [
      "4 5\n",
      "0.8\n"
     ]
    }
   ],
   "source": [
    "#BOJ1008\n",
    "a, b = map(int, input().split( ))\n",
    "print(a/b)"
   ]
  },
  {
   "cell_type": "code",
   "execution_count": 13,
   "id": "dce6f67b",
   "metadata": {},
   "outputs": [
    {
     "name": "stdout",
     "output_type": "stream",
     "text": [
      "7 3\n",
      "10\n",
      "4\n",
      "21\n",
      "2\n",
      "1\n"
     ]
    }
   ],
   "source": [
    "#BOJ10869\n",
    "a, b = map(int, input().split( ))\n",
    "print(a+b)\n",
    "print(a-b)\n",
    "print(a*b)\n",
    "print(int(a/b))\n",
    "print(a%b)"
   ]
  },
  {
   "cell_type": "code",
   "execution_count": 14,
   "id": "04c113b8",
   "metadata": {},
   "outputs": [
    {
     "name": "stdout",
     "output_type": "stream",
     "text": [
      "5 8 4\n",
      "1\n",
      "1\n",
      "0\n",
      "0\n"
     ]
    }
   ],
   "source": [
    "#BOJ10430\n",
    "a, b, c = map(int, input().split( ))\n",
    "print((a+b)%c)\n",
    "print(((a%c)+(b%c))%c)\n",
    "print((a*b)%c)\n",
    "print(((a%c)*(b%c))%c)"
   ]
  },
  {
   "cell_type": "markdown",
   "id": "6eca64e7",
   "metadata": {},
   "source": [
    "-----------------------------------"
   ]
  },
  {
   "cell_type": "code",
   "execution_count": null,
   "id": "52e02aaa",
   "metadata": {
    "scrolled": true
   },
   "outputs": [],
   "source": [
    "#BOJ2558\n",
    "a = int(input())\n",
    "b = int(input())\n",
    "print(a+b)"
   ]
  },
  {
   "cell_type": "code",
   "execution_count": 20,
   "id": "473473e8",
   "metadata": {},
   "outputs": [
    {
     "name": "stdout",
     "output_type": "stream",
     "text": [
      "472\n",
      "385\n",
      "2360\n",
      "3776\n",
      "1416\n",
      "181720\n"
     ]
    }
   ],
   "source": [
    "#BOJ2588\n",
    "a = int(input())\n",
    "b = int(input())\n",
    "\n",
    "b1 = b % 10\n",
    "r1 = a*b1\n",
    "\n",
    "b2 = b % 100 - b1\n",
    "r2 = a*b2\n",
    "\n",
    "b3 = b % 1000 - (b2+b1)\n",
    "r3 = a*b3\n",
    "\n",
    "print(r1)\n",
    "print(int(r2/10))\n",
    "print(int(r3/100))\n",
    "print(r1 + r2 + r3)"
   ]
  },
  {
   "cell_type": "code",
   "execution_count": null,
   "id": "b7839ac0",
   "metadata": {},
   "outputs": [],
   "source": [
    "#BOJ3046\n"
   ]
  }
 ],
 "metadata": {
  "kernelspec": {
   "display_name": "Python 3 (ipykernel)",
   "language": "python",
   "name": "python3"
  },
  "language_info": {
   "codemirror_mode": {
    "name": "ipython",
    "version": 3
   },
   "file_extension": ".py",
   "mimetype": "text/x-python",
   "name": "python",
   "nbconvert_exporter": "python",
   "pygments_lexer": "ipython3",
   "version": "3.10.9"
  }
 },
 "nbformat": 4,
 "nbformat_minor": 5
}

{
 "cells": [
  {
   "cell_type": "markdown",
   "id": "8b9a10e9",
   "metadata": {},
   "source": [
    "## BOJ 2744 대소문자 바꾸기"
   ]
  },
  {
   "cell_type": "code",
   "execution_count": 6,
   "id": "700d2bb9",
   "metadata": {},
   "outputs": [
    {
     "name": "stdout",
     "output_type": "stream",
     "text": [
      "WrongAnswer\n",
      "wRONGaNSWER"
     ]
    }
   ],
   "source": [
    "L = list(input())\n",
    "for i in L:\n",
    "    if i.isupper():\n",
    "        print(i.lower(), end='')\n",
    "    else:\n",
    "        print(i.upper(), end='')"
   ]
  },
  {
   "cell_type": "markdown",
   "id": "1af5e2d2",
   "metadata": {},
   "source": [
    "## 대소문자 바꾸기\n",
    "\n",
    "- 알파벳을 대문자나 소문자로 바꿔야 할 때 사용하는 함수\n",
    "    - 문자열.upper() : 문자열을 대문자로 변환\n",
    "    - 문자열.lower() : 문자열을 소문자로 변환\n",
    "    - 문자열.isupper() : 해당 문자열이 대문자인지 판단(값은 bool 형태인 True나 False로 나옴)\n",
    "    - 문자열.islower() : 해당 문자열이 소문자인지 판단(값은 bool 형태인 True나 False로 나옴)"
   ]
  }
 ],
 "metadata": {
  "kernelspec": {
   "display_name": "Python 3 (ipykernel)",
   "language": "python",
   "name": "python3"
  },
  "language_info": {
   "codemirror_mode": {
    "name": "ipython",
    "version": 3
   },
   "file_extension": ".py",
   "mimetype": "text/x-python",
   "name": "python",
   "nbconvert_exporter": "python",
   "pygments_lexer": "ipython3",
   "version": "3.10.9"
  }
 },
 "nbformat": 4,
 "nbformat_minor": 5
}

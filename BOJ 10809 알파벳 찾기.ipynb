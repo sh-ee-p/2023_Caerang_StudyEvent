{
 "cells": [
  {
   "cell_type": "code",
   "execution_count": 10,
   "id": "3b37d1c0",
   "metadata": {},
   "outputs": [
    {
     "name": "stdout",
     "output_type": "stream",
     "text": [
      "baekjoon\n",
      "1 0 -1 -1 2 -1 -1 -1 -1 4 3 -1 -1 7 5 -1 -1 -1 -1 -1 -1 -1 -1 -1 -1 -1 "
     ]
    }
   ],
   "source": [
    "# 다른 사람 코드\n",
    "L = list(map(str, input()))\n",
    "alphabet = 'abcdefghijklmnopqrstuvwxyz'\n",
    "\n",
    "for i in alphabet:\n",
    "    if i in L:\n",
    "        print(L.index(i), end=\" \")\n",
    "    else:\n",
    "        print(-1, end=\" \")"
   ]
  },
  {
   "cell_type": "code",
   "execution_count": 11,
   "id": "6f98a677",
   "metadata": {},
   "outputs": [
    {
     "name": "stdout",
     "output_type": "stream",
     "text": [
      "baekjoon\n",
      "1 0 -1 -1 2 -1 -1 -1 -1 4 3 -1 -1 7 5 -1 -1 -1 -1 -1 -1 -1 -1 -1 -1 -1 "
     ]
    }
   ],
   "source": [
    "# 다른 사람 코드 2\n",
    "S = input()\n",
    "check = [-1]*26\n",
    " \n",
    "for i in range(len(S)):\n",
    "    if check[ord(S[i])-97] != -1:\n",
    "        continue\n",
    "    else:\n",
    "        check[ord(S[i])-97] = i\n",
    "        \n",
    "for i in range(26):\n",
    "    print(check[i], end=' ')"
   ]
  },
  {
   "cell_type": "code",
   "execution_count": null,
   "id": "d71cca70",
   "metadata": {},
   "outputs": [],
   "source": [
    "# 내가 쓴 코드\n",
    "L = list(map(str, input()))\n",
    "for i in range(97, 122):\n",
    "    if chr(i) in L:\n",
    "        print(L.index(chr(i)), end=\" \")\n",
    "    else:\n",
    "        print(-1, end=\" \")"
   ]
  }
 ],
 "metadata": {
  "kernelspec": {
   "display_name": "Python 3 (ipykernel)",
   "language": "python",
   "name": "python3"
  },
  "language_info": {
   "codemirror_mode": {
    "name": "ipython",
    "version": 3
   },
   "file_extension": ".py",
   "mimetype": "text/x-python",
   "name": "python",
   "nbconvert_exporter": "python",
   "pygments_lexer": "ipython3",
   "version": "3.10.9"
  }
 },
 "nbformat": 4,
 "nbformat_minor": 5
}

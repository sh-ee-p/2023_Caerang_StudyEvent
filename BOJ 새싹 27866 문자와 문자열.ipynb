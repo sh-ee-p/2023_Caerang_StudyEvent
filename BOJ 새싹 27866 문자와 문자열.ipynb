{
 "cells": [
  {
   "cell_type": "markdown",
   "id": "c0810c29",
   "metadata": {},
   "source": [
    "## BOJ 27866 문자와 문자열"
   ]
  },
  {
   "cell_type": "code",
   "execution_count": 4,
   "id": "76192099",
   "metadata": {},
   "outputs": [
    {
     "name": "stdout",
     "output_type": "stream",
     "text": [
      "Baekjoon\n",
      "4\n",
      "k\n"
     ]
    }
   ],
   "source": [
    "S = input()\n",
    "print(S[int(input())-1])"
   ]
  }
 ],
 "metadata": {
  "kernelspec": {
   "display_name": "Python 3 (ipykernel)",
   "language": "python",
   "name": "python3"
  },
  "language_info": {
   "codemirror_mode": {
    "name": "ipython",
    "version": 3
   },
   "file_extension": ".py",
   "mimetype": "text/x-python",
   "name": "python",
   "nbconvert_exporter": "python",
   "pygments_lexer": "ipython3",
   "version": "3.10.9"
  }
 },
 "nbformat": 4,
 "nbformat_minor": 5
}

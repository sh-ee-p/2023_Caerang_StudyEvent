{
 "cells": [
  {
   "cell_type": "markdown",
   "id": "5ccc1e25",
   "metadata": {},
   "source": [
    "## BOJ 10872 팩토리얼"
   ]
  },
  {
   "cell_type": "code",
   "execution_count": 5,
   "id": "e8a2152f",
   "metadata": {},
   "outputs": [
    {
     "name": "stdout",
     "output_type": "stream",
     "text": [
      "0\n",
      "1\n"
     ]
    }
   ],
   "source": [
    "N = int(input())\n",
    "mulN = 1\n",
    "for i in range(1, N+1):\n",
    "    mulN *= i\n",
    "print(mulN)"
   ]
  }
 ],
 "metadata": {
  "kernelspec": {
   "display_name": "Python 3 (ipykernel)",
   "language": "python",
   "name": "python3"
  },
  "language_info": {
   "codemirror_mode": {
    "name": "ipython",
    "version": 3
   },
   "file_extension": ".py",
   "mimetype": "text/x-python",
   "name": "python",
   "nbconvert_exporter": "python",
   "pygments_lexer": "ipython3",
   "version": "3.10.9"
  }
 },
 "nbformat": 4,
 "nbformat_minor": 5
}

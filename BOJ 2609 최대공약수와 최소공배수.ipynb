{
 "cells": [
  {
   "cell_type": "code",
   "execution_count": 1,
   "id": "b167070c",
   "metadata": {},
   "outputs": [
    {
     "name": "stdout",
     "output_type": "stream",
     "text": [
      "24 18\n",
      "6\n",
      "72\n"
     ]
    }
   ],
   "source": [
    "def GCD(x,y):\n",
    "    while(y):\n",
    "        x, y = y, x%y\n",
    "    return x\n",
    "\n",
    "def LCM(x,y):\n",
    "    result = (x*y)//GCD(x,y)\n",
    "    return result\n",
    "\n",
    "A, B = map(int, input().split())\n",
    "print(GCD(A,B))\n",
    "print(LCM(A,B))"
   ]
  }
 ],
 "metadata": {
  "kernelspec": {
   "display_name": "Python 3 (ipykernel)",
   "language": "python",
   "name": "python3"
  },
  "language_info": {
   "codemirror_mode": {
    "name": "ipython",
    "version": 3
   },
   "file_extension": ".py",
   "mimetype": "text/x-python",
   "name": "python",
   "nbconvert_exporter": "python",
   "pygments_lexer": "ipython3",
   "version": "3.10.9"
  }
 },
 "nbformat": 4,
 "nbformat_minor": 5
}
